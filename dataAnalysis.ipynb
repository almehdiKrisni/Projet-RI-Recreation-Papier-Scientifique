{
 "cells": [
  {
   "cell_type": "markdown",
   "metadata": {},
   "source": [
    "# Analyse des données récupérées\n",
    "\n",
    "### Membres du binôme :\n",
    "- KRISNI Almehdi\n",
    "- ARICHANDRA Santhos"
   ]
  }
 ],
 "metadata": {
  "language_info": {
   "name": "python"
  },
  "orig_nbformat": 4
 },
 "nbformat": 4,
 "nbformat_minor": 2
}
