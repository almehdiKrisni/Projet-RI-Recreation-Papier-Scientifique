{
 "cells": [
  {
   "cell_type": "markdown",
   "metadata": {},
   "source": [
    "## **Analyse des données récupérées**\n",
    "\n",
    "#### Membres du binôme :\n",
    "- KRISNI Almehdi\n",
    "- ARICHANDRA Santhos"
   ]
  },
  {
   "cell_type": "code",
   "execution_count": 13,
   "metadata": {},
   "outputs": [
    {
     "name": "stdout",
     "output_type": "stream",
     "text": [
      "The autoreload extension is already loaded. To reload it, use:\n",
      "  %reload_ext autoreload\n"
     ]
    }
   ],
   "source": [
    "# Imports\n",
    "from utils import *\n",
    "\n",
    "# Rechargement automatique des fichiers importés (vu dans l'UE de Data Science en L3)\n",
    "%load_ext autoreload\n",
    "%autoreload 2\n",
    "\n",
    "# On désactive les affichages\n",
    "import warnings\n",
    "warnings.filterwarnings('ignore')"
   ]
  },
  {
   "cell_type": "code",
   "execution_count": 12,
   "metadata": {},
   "outputs": [
    {
     "name": "stdout",
     "output_type": "stream",
     "text": [
      "<class 'pandas.core.frame.DataFrame'>\n",
      "Int64Index: 13494 entries, 0 to 13495\n",
      "Data columns (total 20 columns):\n",
      " #   Column         Non-Null Count  Dtype  \n",
      "---  ------         --------------  -----  \n",
      " 0   name           13494 non-null  object \n",
      " 1   id             13494 non-null  int64  \n",
      " 2   description    13494 non-null  object \n",
      " 3   picture        13494 non-null  object \n",
      " 4   servings       13494 non-null  int64  \n",
      " 5   calories       13494 non-null  float64\n",
      " 6   reviews        13494 non-null  int64  \n",
      " 7   rating         13494 non-null  float64\n",
      " 8   carbohydrates  13494 non-null  float64\n",
      " 9   dietary fiber  13494 non-null  float64\n",
      " 10  sugars         13494 non-null  float64\n",
      " 11  fat            13494 non-null  float64\n",
      " 12  saturated fat  13494 non-null  float64\n",
      " 13  cholesterol    13494 non-null  float64\n",
      " 14  calcium        13494 non-null  float64\n",
      " 15  iron           13494 non-null  float64\n",
      " 16  magnesium      13494 non-null  float64\n",
      " 17  potassium      13494 non-null  float64\n",
      " 18  sodium         13494 non-null  float64\n",
      " 19  ingredients    13494 non-null  object \n",
      "dtypes: float64(13), int64(3), object(4)\n",
      "memory usage: 2.2+ MB\n"
     ]
    }
   ],
   "source": [
    "# On récupère le dataframe pandas contenant toutes les recettes\n",
    "df = recipeDfMaker(10000, 100, 25000)\n",
    "df.info()"
   ]
  },
  {
   "cell_type": "code",
   "execution_count": 3,
   "metadata": {},
   "outputs": [
    {
     "name": "stdout",
     "output_type": "stream",
     "text": [
      "<class 'pandas.core.frame.DataFrame'>\n",
      "Int64Index: 12594 entries, 0 to 13495\n",
      "Data columns (total 20 columns):\n",
      " #   Column         Non-Null Count  Dtype  \n",
      "---  ------         --------------  -----  \n",
      " 0   name           12594 non-null  object \n",
      " 1   id             12594 non-null  int64  \n",
      " 2   description    12594 non-null  object \n",
      " 3   picture        12594 non-null  object \n",
      " 4   servings       12594 non-null  int64  \n",
      " 5   calories       12594 non-null  float64\n",
      " 6   reviews        12594 non-null  int64  \n",
      " 7   rating         12594 non-null  float64\n",
      " 8   carbohydrates  12594 non-null  float64\n",
      " 9   dietary fiber  12594 non-null  float64\n",
      " 10  sugars         12594 non-null  float64\n",
      " 11  fat            12594 non-null  float64\n",
      " 12  saturated fat  12594 non-null  float64\n",
      " 13  cholesterol    12594 non-null  float64\n",
      " 14  calcium        12594 non-null  float64\n",
      " 15  iron           12594 non-null  float64\n",
      " 16  magnesium      12594 non-null  float64\n",
      " 17  potassium      12594 non-null  float64\n",
      " 18  sodium         12594 non-null  float64\n",
      " 19  ingredients    12594 non-null  object \n",
      "dtypes: float64(13), int64(3), object(4)\n",
      "memory usage: 2.0+ MB\n"
     ]
    }
   ],
   "source": [
    "# We remove the pictures\n",
    "df = removeNoPictures(df)\n",
    "df.info()"
   ]
  },
  {
   "cell_type": "code",
   "execution_count": 15,
   "metadata": {},
   "outputs": [
    {
     "name": "stdout",
     "output_type": "stream",
     "text": [
      "Length mismatch: Expected axis has 0 elements, new values have 6 elements\n"
     ]
    }
   ],
   "source": [
    "computePictureStats(18600, 100, 18700)\n",
    "\n",
    "computePictureStats(21900, 100, 21000)\n",
    "\n",
    "computePictureStats(22400, 100, 23400)"
   ]
  },
  {
   "cell_type": "code",
   "execution_count": 14,
   "metadata": {},
   "outputs": [
    {
     "name": "stdout",
     "output_type": "stream",
     "text": [
      "18600 [Errno 2] No such file or directory: 'data_pictures/recipedata_18600_18699.csv'\n",
      "21900 [Errno 2] No such file or directory: 'data_pictures/recipedata_21900_21999.csv'\n",
      "22000 [Errno 2] No such file or directory: 'data_pictures/recipedata_22000_22099.csv'\n",
      "22400 [Errno 2] No such file or directory: 'data_pictures/recipedata_22400_22499.csv'\n",
      "22500 [Errno 2] No such file or directory: 'data_pictures/recipedata_22500_22599.csv'\n",
      "22600 [Errno 2] No such file or directory: 'data_pictures/recipedata_22600_22699.csv'\n",
      "22700 [Errno 2] No such file or directory: 'data_pictures/recipedata_22700_22799.csv'\n",
      "22800 [Errno 2] No such file or directory: 'data_pictures/recipedata_22800_22899.csv'\n",
      "22900 [Errno 2] No such file or directory: 'data_pictures/recipedata_22900_22999.csv'\n",
      "23000 [Errno 2] No such file or directory: 'data_pictures/recipedata_23000_23099.csv'\n",
      "23100 [Errno 2] No such file or directory: 'data_pictures/recipedata_23100_23199.csv'\n",
      "23200 [Errno 2] No such file or directory: 'data_pictures/recipedata_23200_23299.csv'\n",
      "23300 [Errno 2] No such file or directory: 'data_pictures/recipedata_23300_23399.csv'\n"
     ]
    },
    {
     "data": {
      "text/html": [
       "<div>\n",
       "<style scoped>\n",
       "    .dataframe tbody tr th:only-of-type {\n",
       "        vertical-align: middle;\n",
       "    }\n",
       "\n",
       "    .dataframe tbody tr th {\n",
       "        vertical-align: top;\n",
       "    }\n",
       "\n",
       "    .dataframe thead th {\n",
       "        text-align: right;\n",
       "    }\n",
       "</style>\n",
       "<table border=\"1\" class=\"dataframe\">\n",
       "  <thead>\n",
       "    <tr style=\"text-align: right;\">\n",
       "      <th></th>\n",
       "      <th>id</th>\n",
       "      <th>brightness_picture</th>\n",
       "      <th>sharpness_picture</th>\n",
       "      <th>entropy_picture</th>\n",
       "      <th>colorfulness_picture</th>\n",
       "      <th>contrast_picture</th>\n",
       "    </tr>\n",
       "  </thead>\n",
       "  <tbody>\n",
       "    <tr>\n",
       "      <th>0</th>\n",
       "      <td>10000.0</td>\n",
       "      <td>122.297989</td>\n",
       "      <td>9.374181</td>\n",
       "      <td>1.274089</td>\n",
       "      <td>20.113405</td>\n",
       "      <td>1.000000</td>\n",
       "    </tr>\n",
       "    <tr>\n",
       "      <th>1</th>\n",
       "      <td>10001.0</td>\n",
       "      <td>108.192978</td>\n",
       "      <td>9.073389</td>\n",
       "      <td>1.654356</td>\n",
       "      <td>62.595903</td>\n",
       "      <td>14.875000</td>\n",
       "    </tr>\n",
       "    <tr>\n",
       "      <th>2</th>\n",
       "      <td>10002.0</td>\n",
       "      <td>80.119311</td>\n",
       "      <td>4.301790</td>\n",
       "      <td>1.384078</td>\n",
       "      <td>50.054033</td>\n",
       "      <td>0.975460</td>\n",
       "    </tr>\n",
       "    <tr>\n",
       "      <th>3</th>\n",
       "      <td>10003.0</td>\n",
       "      <td>138.466889</td>\n",
       "      <td>8.095743</td>\n",
       "      <td>1.358489</td>\n",
       "      <td>70.363709</td>\n",
       "      <td>49.799999</td>\n",
       "    </tr>\n",
       "    <tr>\n",
       "      <th>4</th>\n",
       "      <td>10004.0</td>\n",
       "      <td>131.493567</td>\n",
       "      <td>7.910772</td>\n",
       "      <td>1.488211</td>\n",
       "      <td>33.684277</td>\n",
       "      <td>1.000000</td>\n",
       "    </tr>\n",
       "    <tr>\n",
       "      <th>...</th>\n",
       "      <td>...</td>\n",
       "      <td>...</td>\n",
       "      <td>...</td>\n",
       "      <td>...</td>\n",
       "      <td>...</td>\n",
       "      <td>...</td>\n",
       "    </tr>\n",
       "    <tr>\n",
       "      <th>12622</th>\n",
       "      <td>24995.0</td>\n",
       "      <td>126.717778</td>\n",
       "      <td>7.616961</td>\n",
       "      <td>1.394522</td>\n",
       "      <td>50.717406</td>\n",
       "      <td>1.000000</td>\n",
       "    </tr>\n",
       "    <tr>\n",
       "      <th>12623</th>\n",
       "      <td>24996.0</td>\n",
       "      <td>190.051200</td>\n",
       "      <td>6.436306</td>\n",
       "      <td>0.972711</td>\n",
       "      <td>35.568197</td>\n",
       "      <td>1.000000</td>\n",
       "    </tr>\n",
       "    <tr>\n",
       "      <th>12624</th>\n",
       "      <td>24997.0</td>\n",
       "      <td>169.987322</td>\n",
       "      <td>13.440420</td>\n",
       "      <td>1.540433</td>\n",
       "      <td>71.025033</td>\n",
       "      <td>22.090910</td>\n",
       "    </tr>\n",
       "    <tr>\n",
       "      <th>12625</th>\n",
       "      <td>24998.0</td>\n",
       "      <td>75.374511</td>\n",
       "      <td>5.105261</td>\n",
       "      <td>1.101356</td>\n",
       "      <td>55.846469</td>\n",
       "      <td>16.714285</td>\n",
       "    </tr>\n",
       "    <tr>\n",
       "      <th>12626</th>\n",
       "      <td>24999.0</td>\n",
       "      <td>133.333211</td>\n",
       "      <td>16.176959</td>\n",
       "      <td>1.749122</td>\n",
       "      <td>92.337766</td>\n",
       "      <td>1.000000</td>\n",
       "    </tr>\n",
       "  </tbody>\n",
       "</table>\n",
       "<p>12627 rows × 6 columns</p>\n",
       "</div>"
      ],
      "text/plain": [
       "            id  brightness_picture  sharpness_picture  entropy_picture  \\\n",
       "0      10000.0          122.297989           9.374181         1.274089   \n",
       "1      10001.0          108.192978           9.073389         1.654356   \n",
       "2      10002.0           80.119311           4.301790         1.384078   \n",
       "3      10003.0          138.466889           8.095743         1.358489   \n",
       "4      10004.0          131.493567           7.910772         1.488211   \n",
       "...        ...                 ...                ...              ...   \n",
       "12622  24995.0          126.717778           7.616961         1.394522   \n",
       "12623  24996.0          190.051200           6.436306         0.972711   \n",
       "12624  24997.0          169.987322          13.440420         1.540433   \n",
       "12625  24998.0           75.374511           5.105261         1.101356   \n",
       "12626  24999.0          133.333211          16.176959         1.749122   \n",
       "\n",
       "       colorfulness_picture  contrast_picture  \n",
       "0                 20.113405          1.000000  \n",
       "1                 62.595903         14.875000  \n",
       "2                 50.054033          0.975460  \n",
       "3                 70.363709         49.799999  \n",
       "4                 33.684277          1.000000  \n",
       "...                     ...               ...  \n",
       "12622             50.717406          1.000000  \n",
       "12623             35.568197          1.000000  \n",
       "12624             71.025033         22.090910  \n",
       "12625             55.846469         16.714285  \n",
       "12626             92.337766          1.000000  \n",
       "\n",
       "[12627 rows x 6 columns]"
      ]
     },
     "execution_count": 14,
     "metadata": {},
     "output_type": "execute_result"
    }
   ],
   "source": [
    "pictureDataDfMaker(10000, 100, 25000)"
   ]
  },
  {
   "cell_type": "code",
   "execution_count": 7,
   "metadata": {},
   "outputs": [
    {
     "name": "stdout",
     "output_type": "stream",
     "text": [
      "The experience user model id.1000 has been created.000 ...\n"
     ]
    }
   ],
   "source": [
    "# We generate a user experience with ingredients\n",
    "generate_user_experience(df, 1, \"1000\", 0.8, 2, withIngs=True)"
   ]
  },
  {
   "cell_type": "code",
   "execution_count": 7,
   "metadata": {},
   "outputs": [],
   "source": [
    "computePictureStats(24000, 100, 25000)"
   ]
  },
  {
   "cell_type": "code",
   "execution_count": 24,
   "metadata": {},
   "outputs": [
    {
     "data": {
      "text/plain": [
       "(108.19297777777778,\n",
       " 9.073389266974782,\n",
       " 1.6543555555555556,\n",
       " 62.59590306367753,\n",
       " 14.875)"
      ]
     },
     "execution_count": 24,
     "metadata": {},
     "output_type": "execute_result"
    }
   ],
   "source": [
    "picStats(10001)"
   ]
  },
  {
   "cell_type": "code",
   "execution_count": 4,
   "metadata": {},
   "outputs": [
    {
     "data": {
      "text/html": [
       "<div>\n",
       "<style scoped>\n",
       "    .dataframe tbody tr th:only-of-type {\n",
       "        vertical-align: middle;\n",
       "    }\n",
       "\n",
       "    .dataframe tbody tr th {\n",
       "        vertical-align: top;\n",
       "    }\n",
       "\n",
       "    .dataframe thead th {\n",
       "        text-align: right;\n",
       "    }\n",
       "</style>\n",
       "<table border=\"1\" class=\"dataframe\">\n",
       "  <thead>\n",
       "    <tr style=\"text-align: right;\">\n",
       "      <th></th>\n",
       "      <th>name</th>\n",
       "      <th>id</th>\n",
       "      <th>description</th>\n",
       "      <th>picture</th>\n",
       "      <th>servings</th>\n",
       "      <th>calories</th>\n",
       "      <th>reviews</th>\n",
       "      <th>rating</th>\n",
       "      <th>carbohydrates</th>\n",
       "      <th>dietary fiber</th>\n",
       "      <th>sugars</th>\n",
       "      <th>fat</th>\n",
       "      <th>saturated fat</th>\n",
       "      <th>cholesterol</th>\n",
       "      <th>calcium</th>\n",
       "      <th>iron</th>\n",
       "      <th>magnesium</th>\n",
       "      <th>potassium</th>\n",
       "      <th>sodium</th>\n",
       "      <th>ingredients</th>\n",
       "    </tr>\n",
       "  </thead>\n",
       "  <tbody>\n",
       "    <tr>\n",
       "      <th>12176</th>\n",
       "      <td>Cinnamon Chip Applesauce Coffeecake</td>\n",
       "      <td>23666</td>\n",
       "      <td>Moist, light and wonderful, this coffeecake is...</td>\n",
       "      <td>0</td>\n",
       "      <td>12</td>\n",
       "      <td>601.0</td>\n",
       "      <td>57</td>\n",
       "      <td>4.6</td>\n",
       "      <td>69.2</td>\n",
       "      <td>1.8</td>\n",
       "      <td>47.7</td>\n",
       "      <td>33.6</td>\n",
       "      <td>16.7</td>\n",
       "      <td>0.0732</td>\n",
       "      <td>0.1159</td>\n",
       "      <td>0.0017</td>\n",
       "      <td>0.0196</td>\n",
       "      <td>0.2325</td>\n",
       "      <td>0.3996</td>\n",
       "      <td>1 cup butter, softened #1 cup white sugar #2 l...</td>\n",
       "    </tr>\n",
       "    <tr>\n",
       "      <th>6941</th>\n",
       "      <td>Impossible Pumpkin Pie</td>\n",
       "      <td>17047</td>\n",
       "      <td>This is my mom's recipe that makes its own cru...</td>\n",
       "      <td>https://imagesvc.meredithcorp.io/v3/mm/image?u...</td>\n",
       "      <td>8</td>\n",
       "      <td>244.5</td>\n",
       "      <td>126</td>\n",
       "      <td>4.5</td>\n",
       "      <td>34.7</td>\n",
       "      <td>2.0</td>\n",
       "      <td>25.6</td>\n",
       "      <td>9.5</td>\n",
       "      <td>5.4</td>\n",
       "      <td>0.0717</td>\n",
       "      <td>0.1768</td>\n",
       "      <td>0.0015</td>\n",
       "      <td>0.0282</td>\n",
       "      <td>0.2872</td>\n",
       "      <td>0.3092</td>\n",
       "      <td>¾ cup white sugar #3 tablespoons butter, softe...</td>\n",
       "    </tr>\n",
       "    <tr>\n",
       "      <th>9053</th>\n",
       "      <td>Mom's Yummy Sweet Stuffing</td>\n",
       "      <td>19552</td>\n",
       "      <td>Apples and water chestnuts are just a couple o...</td>\n",
       "      <td>0</td>\n",
       "      <td>9</td>\n",
       "      <td>211.2</td>\n",
       "      <td>11</td>\n",
       "      <td>4.5</td>\n",
       "      <td>26.6</td>\n",
       "      <td>2.6</td>\n",
       "      <td>9.6</td>\n",
       "      <td>11.0</td>\n",
       "      <td>6.7</td>\n",
       "      <td>0.0273</td>\n",
       "      <td>0.0355</td>\n",
       "      <td>0.0012</td>\n",
       "      <td>0.0145</td>\n",
       "      <td>0.1970</td>\n",
       "      <td>0.4186</td>\n",
       "      <td>½ cup butter #1 ½ cups chopped celery #½ cup f...</td>\n",
       "    </tr>\n",
       "    <tr>\n",
       "      <th>1107</th>\n",
       "      <td>Peanut Butter Balls V</td>\n",
       "      <td>11117</td>\n",
       "      <td>These are a no-bake great tasting ball.</td>\n",
       "      <td>https://imagesvc.meredithcorp.io/v3/mm/image?u...</td>\n",
       "      <td>100</td>\n",
       "      <td>95.0</td>\n",
       "      <td>80</td>\n",
       "      <td>4.6</td>\n",
       "      <td>8.6</td>\n",
       "      <td>0.8</td>\n",
       "      <td>6.6</td>\n",
       "      <td>6.6</td>\n",
       "      <td>2.0</td>\n",
       "      <td>0.0024</td>\n",
       "      <td>0.0056</td>\n",
       "      <td>0.0003</td>\n",
       "      <td>0.0151</td>\n",
       "      <td>0.0580</td>\n",
       "      <td>0.0462</td>\n",
       "      <td>½ cup butter, softened #2 teaspoons vanilla ex...</td>\n",
       "    </tr>\n",
       "    <tr>\n",
       "      <th>9301</th>\n",
       "      <td>Loosemeat Sandwiches III</td>\n",
       "      <td>19928</td>\n",
       "      <td>These are my wife's version of the famous loos...</td>\n",
       "      <td>https://imagesvc.meredithcorp.io/v3/mm/image?u...</td>\n",
       "      <td>8</td>\n",
       "      <td>355.7</td>\n",
       "      <td>145</td>\n",
       "      <td>4.5</td>\n",
       "      <td>24.2</td>\n",
       "      <td>1.9</td>\n",
       "      <td>3.6</td>\n",
       "      <td>16.3</td>\n",
       "      <td>6.0</td>\n",
       "      <td>0.0743</td>\n",
       "      <td>0.0832</td>\n",
       "      <td>0.0038</td>\n",
       "      <td>0.0383</td>\n",
       "      <td>0.3724</td>\n",
       "      <td>0.9948</td>\n",
       "      <td>2 pounds lean ground beef #1 teaspoon salt #½ ...</td>\n",
       "    </tr>\n",
       "  </tbody>\n",
       "</table>\n",
       "</div>"
      ],
      "text/plain": [
       "                                      name     id  \\\n",
       "12176  Cinnamon Chip Applesauce Coffeecake  23666   \n",
       "6941                Impossible Pumpkin Pie  17047   \n",
       "9053            Mom's Yummy Sweet Stuffing  19552   \n",
       "1107                 Peanut Butter Balls V  11117   \n",
       "9301              Loosemeat Sandwiches III  19928   \n",
       "\n",
       "                                             description  \\\n",
       "12176  Moist, light and wonderful, this coffeecake is...   \n",
       "6941   This is my mom's recipe that makes its own cru...   \n",
       "9053   Apples and water chestnuts are just a couple o...   \n",
       "1107            These are a no-bake great tasting ball.    \n",
       "9301   These are my wife's version of the famous loos...   \n",
       "\n",
       "                                                 picture  servings  calories  \\\n",
       "12176                                                  0        12     601.0   \n",
       "6941   https://imagesvc.meredithcorp.io/v3/mm/image?u...         8     244.5   \n",
       "9053                                                   0         9     211.2   \n",
       "1107   https://imagesvc.meredithcorp.io/v3/mm/image?u...       100      95.0   \n",
       "9301   https://imagesvc.meredithcorp.io/v3/mm/image?u...         8     355.7   \n",
       "\n",
       "       reviews  rating  carbohydrates  dietary fiber  sugars   fat  \\\n",
       "12176       57     4.6           69.2            1.8    47.7  33.6   \n",
       "6941       126     4.5           34.7            2.0    25.6   9.5   \n",
       "9053        11     4.5           26.6            2.6     9.6  11.0   \n",
       "1107        80     4.6            8.6            0.8     6.6   6.6   \n",
       "9301       145     4.5           24.2            1.9     3.6  16.3   \n",
       "\n",
       "       saturated fat  cholesterol  calcium    iron  magnesium  potassium  \\\n",
       "12176           16.7       0.0732   0.1159  0.0017     0.0196     0.2325   \n",
       "6941             5.4       0.0717   0.1768  0.0015     0.0282     0.2872   \n",
       "9053             6.7       0.0273   0.0355  0.0012     0.0145     0.1970   \n",
       "1107             2.0       0.0024   0.0056  0.0003     0.0151     0.0580   \n",
       "9301             6.0       0.0743   0.0832  0.0038     0.0383     0.3724   \n",
       "\n",
       "       sodium                                        ingredients  \n",
       "12176  0.3996  1 cup butter, softened #1 cup white sugar #2 l...  \n",
       "6941   0.3092  ¾ cup white sugar #3 tablespoons butter, softe...  \n",
       "9053   0.4186  ½ cup butter #1 ½ cups chopped celery #½ cup f...  \n",
       "1107   0.0462  ½ cup butter, softened #2 teaspoons vanilla ex...  \n",
       "9301   0.9948  2 pounds lean ground beef #1 teaspoon salt #½ ...  "
      ]
     },
     "execution_count": 4,
     "metadata": {},
     "output_type": "execute_result"
    }
   ],
   "source": [
    "df.sample(n=100).head()"
   ]
  },
  {
   "cell_type": "code",
   "execution_count": 53,
   "metadata": {},
   "outputs": [
    {
     "data": {
      "text/plain": [
       "0    3 cups all-purpose flour #1 ½ cups white sugar...\n",
       "1    4 eggs #¼ cup cocoa powder #1 cup white sugar ...\n",
       "2    ½ teaspoon salt #1 cup peanut butter #1 cup wh...\n",
       "3    1 cup butter #1 ½ cups all-purpose flour #½ cu...\n",
       "4    3 egg whites #1 teaspoon distilled white vineg...\n",
       "Name: ingredients, dtype: object"
      ]
     },
     "execution_count": 53,
     "metadata": {},
     "output_type": "execute_result"
    }
   ],
   "source": [
    "df[\"ingredients\"].head(5)"
   ]
  },
  {
   "cell_type": "code",
   "execution_count": 10,
   "metadata": {},
   "outputs": [
    {
     "data": {
      "image/png": "[encoded data removed]",
      "text/plain": [
       "<Figure size 432x288 with 1 Axes>"
      ]
     },
     "metadata": {
      "needs_background": "light"
     },
     "output_type": "display_data"
    }
   ],
   "source": [
    "computeFSAscore(df)\n",
    "showBar(df[\"FSA_score\"].tolist(), odds=True)"
   ]
  },
  {
   "cell_type": "code",
   "execution_count": 55,
   "metadata": {},
   "outputs": [
    {
     "data": {
      "text/plain": [
       "674      77.4\n",
       "815      40.5\n",
       "1006     35.9\n",
       "1008     32.7\n",
       "1048    106.1\n",
       "        ...  \n",
       "8629     47.2\n",
       "8658     38.6\n",
       "8675     50.8\n",
       "8922     35.5\n",
       "9054     46.9\n",
       "Name: fat, Length: 63, dtype: float64"
      ]
     },
     "execution_count": 55,
     "metadata": {},
     "output_type": "execute_result"
    }
   ],
   "source": [
    "df[df[\"FSA_score\"] == 12][\"fat\"]"
   ]
  },
  {
   "cell_type": "code",
   "execution_count": 56,
   "metadata": {},
   "outputs": [
    {
     "data": {
      "image/png": "[encoded data removed]",
      "text/plain": [
       "<Figure size 432x288 with 1 Axes>"
      ]
     },
     "metadata": {
      "needs_background": "light"
     },
     "output_type": "display_data"
    }
   ],
   "source": [
    "computeNumberIngredients(df)\n",
    "showBar(df[\"number_ingredients\"].tolist())"
   ]
  },
  {
   "cell_type": "code",
   "execution_count": 57,
   "metadata": {},
   "outputs": [
    {
     "data": {
      "text/html": [
       "<div>\n",
       "<style scoped>\n",
       "    .dataframe tbody tr th:only-of-type {\n",
       "        vertical-align: middle;\n",
       "    }\n",
       "\n",
       "    .dataframe tbody tr th {\n",
       "        vertical-align: top;\n",
       "    }\n",
       "\n",
       "    .dataframe thead th {\n",
       "        text-align: right;\n",
       "    }\n",
       "</style>\n",
       "<table border=\"1\" class=\"dataframe\">\n",
       "  <thead>\n",
       "    <tr style=\"text-align: right;\">\n",
       "      <th></th>\n",
       "      <th>id</th>\n",
       "      <th>servings</th>\n",
       "      <th>calories</th>\n",
       "      <th>reviews</th>\n",
       "      <th>rating</th>\n",
       "      <th>carbohydrates</th>\n",
       "      <th>dietary fiber</th>\n",
       "      <th>sugars</th>\n",
       "      <th>fat</th>\n",
       "      <th>saturated fat</th>\n",
       "      <th>cholesterol</th>\n",
       "      <th>calcium</th>\n",
       "      <th>iron</th>\n",
       "      <th>magnesium</th>\n",
       "      <th>potassium</th>\n",
       "      <th>sodium</th>\n",
       "      <th>FSA_score</th>\n",
       "      <th>number_ingredients</th>\n",
       "    </tr>\n",
       "  </thead>\n",
       "  <tbody>\n",
       "    <tr>\n",
       "      <th>0</th>\n",
       "      <td>10000</td>\n",
       "      <td>12</td>\n",
       "      <td>599.7</td>\n",
       "      <td>38</td>\n",
       "      <td>3.8</td>\n",
       "      <td>86.6</td>\n",
       "      <td>2.6</td>\n",
       "      <td>54.1</td>\n",
       "      <td>26.9</td>\n",
       "      <td>11.6</td>\n",
       "      <td>0.0640</td>\n",
       "      <td>0.1253</td>\n",
       "      <td>0.0025</td>\n",
       "      <td>0.0392</td>\n",
       "      <td>0.1812</td>\n",
       "      <td>0.4130</td>\n",
       "      <td>11</td>\n",
       "      <td>15</td>\n",
       "    </tr>\n",
       "    <tr>\n",
       "      <th>1</th>\n",
       "      <td>10001</td>\n",
       "      <td>12</td>\n",
       "      <td>357.6</td>\n",
       "      <td>13</td>\n",
       "      <td>4.3</td>\n",
       "      <td>35.5</td>\n",
       "      <td>2.0</td>\n",
       "      <td>17.2</td>\n",
       "      <td>22.6</td>\n",
       "      <td>10.8</td>\n",
       "      <td>0.1027</td>\n",
       "      <td>0.0968</td>\n",
       "      <td>0.0021</td>\n",
       "      <td>0.0296</td>\n",
       "      <td>0.1525</td>\n",
       "      <td>0.1965</td>\n",
       "      <td>9</td>\n",
       "      <td>9</td>\n",
       "    </tr>\n",
       "    <tr>\n",
       "      <th>2</th>\n",
       "      <td>10002</td>\n",
       "      <td>30</td>\n",
       "      <td>200.0</td>\n",
       "      <td>6</td>\n",
       "      <td>3.9</td>\n",
       "      <td>21.9</td>\n",
       "      <td>0.7</td>\n",
       "      <td>14.6</td>\n",
       "      <td>11.6</td>\n",
       "      <td>2.7</td>\n",
       "      <td>0.0124</td>\n",
       "      <td>0.0135</td>\n",
       "      <td>0.0007</td>\n",
       "      <td>0.0162</td>\n",
       "      <td>0.0799</td>\n",
       "      <td>0.1273</td>\n",
       "      <td>8</td>\n",
       "      <td>9</td>\n",
       "    </tr>\n",
       "    <tr>\n",
       "      <th>3</th>\n",
       "      <td>10003</td>\n",
       "      <td>24</td>\n",
       "      <td>116.3</td>\n",
       "      <td>154</td>\n",
       "      <td>4.0</td>\n",
       "      <td>10.9</td>\n",
       "      <td>0.2</td>\n",
       "      <td>2.5</td>\n",
       "      <td>7.8</td>\n",
       "      <td>4.9</td>\n",
       "      <td>0.0203</td>\n",
       "      <td>0.0035</td>\n",
       "      <td>0.0004</td>\n",
       "      <td>0.0020</td>\n",
       "      <td>0.0108</td>\n",
       "      <td>0.0549</td>\n",
       "      <td>6</td>\n",
       "      <td>5</td>\n",
       "    </tr>\n",
       "    <tr>\n",
       "      <th>4</th>\n",
       "      <td>10004</td>\n",
       "      <td>8</td>\n",
       "      <td>108.1</td>\n",
       "      <td>19</td>\n",
       "      <td>4.7</td>\n",
       "      <td>26.0</td>\n",
       "      <td>0.0</td>\n",
       "      <td>25.2</td>\n",
       "      <td>0.0</td>\n",
       "      <td>0.0</td>\n",
       "      <td>0.0000</td>\n",
       "      <td>0.0011</td>\n",
       "      <td>0.0000</td>\n",
       "      <td>0.0015</td>\n",
       "      <td>0.0213</td>\n",
       "      <td>0.0213</td>\n",
       "      <td>6</td>\n",
       "      <td>6</td>\n",
       "    </tr>\n",
       "  </tbody>\n",
       "</table>\n",
       "</div>"
      ],
      "text/plain": [
       "      id  servings  calories  reviews  rating  carbohydrates  dietary fiber  \\\n",
       "0  10000        12     599.7       38     3.8           86.6            2.6   \n",
       "1  10001        12     357.6       13     4.3           35.5            2.0   \n",
       "2  10002        30     200.0        6     3.9           21.9            0.7   \n",
       "3  10003        24     116.3      154     4.0           10.9            0.2   \n",
       "4  10004         8     108.1       19     4.7           26.0            0.0   \n",
       "\n",
       "   sugars   fat  saturated fat  cholesterol  calcium    iron  magnesium  \\\n",
       "0    54.1  26.9           11.6       0.0640   0.1253  0.0025     0.0392   \n",
       "1    17.2  22.6           10.8       0.1027   0.0968  0.0021     0.0296   \n",
       "2    14.6  11.6            2.7       0.0124   0.0135  0.0007     0.0162   \n",
       "3     2.5   7.8            4.9       0.0203   0.0035  0.0004     0.0020   \n",
       "4    25.2   0.0            0.0       0.0000   0.0011  0.0000     0.0015   \n",
       "\n",
       "   potassium  sodium  FSA_score  number_ingredients  \n",
       "0     0.1812  0.4130         11                  15  \n",
       "1     0.1525  0.1965          9                   9  \n",
       "2     0.0799  0.1273          8                   9  \n",
       "3     0.0108  0.0549          6                   5  \n",
       "4     0.0213  0.0213          6                   6  "
      ]
     },
     "execution_count": 57,
     "metadata": {},
     "output_type": "execute_result"
    }
   ],
   "source": [
    "# Exclude string columns\n",
    "dfNoStr = df.select_dtypes(exclude=['object'])\n",
    "dfNoStr.head(5)"
   ]
  },
  {
   "cell_type": "code",
   "execution_count": 58,
   "metadata": {},
   "outputs": [
    {
     "data": {
      "text/plain": [
       "0.9974740985767082"
      ]
     },
     "execution_count": 58,
     "metadata": {},
     "output_type": "execute_result"
    }
   ],
   "source": [
    "cosSimCalc(df, 10000, 10001)"
   ]
  },
  {
   "cell_type": "code",
   "execution_count": 59,
   "metadata": {},
   "outputs": [
    {
     "data": {
      "text/plain": [
       "0.7028611945202856"
      ]
     },
     "execution_count": 59,
     "metadata": {},
     "output_type": "execute_result"
    }
   ],
   "source": [
    "cosSimCalc(df, 10000, 10001, mode=2)"
   ]
  },
  {
   "cell_type": "code",
   "execution_count": 60,
   "metadata": {},
   "outputs": [
    {
     "name": "stdout",
     "output_type": "stream",
     "text": [
      "8859\n",
      "name                                          Tortellini a la Carbonara\n",
      "id                                                                19297\n",
      "description           A rich, creamy sauce with bacon and tortellini...\n",
      "picture               https://imagesvc.meredithcorp.io/v3/mm/image?u...\n",
      "servings                                                              4\n",
      "calories                                                         1640.8\n",
      "reviews                                                              29\n",
      "rating                                                              4.3\n",
      "carbohydrates                                                      27.6\n",
      "dietary fiber                                                       0.8\n",
      "sugars                                                              0.5\n",
      "fat                                                               154.9\n",
      "saturated fat                                                      78.9\n",
      "cholesterol                                                      0.6931\n",
      "calcium                                                          0.5069\n",
      "iron                                                              0.003\n",
      "magnesium                                                        0.0563\n",
      "potassium                                                         0.557\n",
      "sodium                                                           1.5367\n",
      "ingredients           3 cups spinach tortellini #3 egg yolks #4 cups...\n",
      "FSA_score                                                            10\n",
      "number_ingredients                                                    5\n",
      "Name: 8859, dtype: object\n"
     ]
    }
   ],
   "source": [
    "# https://towardsdatascience.com/histograms-and-density-plots-in-python-f6bda88f5ac0\n",
    "\n",
    "# How we access a max value example\n",
    "print(df[\"fat\"].idxmax())\n",
    "print(df.loc[8859])"
   ]
  },
  {
   "cell_type": "code",
   "execution_count": 67,
   "metadata": {},
   "outputs": [
    {
     "data": {
      "text/plain": [
       "(0.9788921032894032,\n",
       " 0.6709525340190721,\n",
       " 0.08496732026143791,\n",
       " 0.00021429336762027214)"
      ]
     },
     "execution_count": 67,
     "metadata": {},
     "output_type": "execute_result"
    }
   ],
   "source": [
    "recipeSimStats(df, 10000, mode=3, coefVal=1/3, coefName=1/3, coefIng=1/3)"
   ]
  },
  {
   "cell_type": "code",
   "execution_count": 68,
   "metadata": {},
   "outputs": [
    {
     "data": {
      "text/plain": [
       "(0.970856102003643,\n",
       " 0.8453873352619736,\n",
       " 0.09428908175291975,\n",
       " 0.0004285867352405443)"
      ]
     },
     "execution_count": 68,
     "metadata": {},
     "output_type": "execute_result"
    }
   ],
   "source": [
    "recipeSimStats(df, 10000, mode=3, coefVal=2/5, coefName=2/5, coefIng=1/5)"
   ]
  },
  {
   "cell_type": "code",
   "execution_count": 62,
   "metadata": {},
   "outputs": [
    {
     "name": "stdout",
     "output_type": "stream",
     "text": [
      "Brigtness :\t 122.2979888888889\n",
      "Sharpness :\t 9.374180970660415\n",
      "Colorfulness :\t 20.11340526415148\n",
      "Contrast :\t 1.0\n"
     ]
    },
    {
     "data": {
      "text/plain": [
       "(122.2979888888889, 9.374180970660415, 20.11340526415148, 1.0)"
      ]
     },
     "execution_count": 62,
     "metadata": {},
     "output_type": "execute_result"
    }
   ],
   "source": [
    "picStats(10000)"
   ]
  },
  {
   "cell_type": "code",
   "execution_count": 63,
   "metadata": {},
   "outputs": [
    {
     "name": "stdout",
     "output_type": "stream",
     "text": [
      "p2-v1\n",
      "The experience user model id.p2-v1 has been created.2-v1 ...\n",
      "p2-v2\n",
      "The experience user model id.p2-v2 has been created.2-v2 ...\n",
      "p2-v3\n",
      "The experience user model id.p2-v3 has been created.2-v3 ...\n",
      "p2-v4\n",
      "The experience user model id.p2-v4 has been created.2-v4 ...\n",
      "p2-v5\n",
      "The experience user model id.p2-v5 has been created.2-v5 ...\n",
      "p4-v1\n",
      "The experience user model id.p4-v1 has been created.4-v1 ...\n",
      "p4-v2\n",
      "The experience user model id.p4-v2 has been created.4-v2 ...\n",
      "p4-v3\n",
      "The experience user model id.p4-v3 has been created.4-v3 ...\n",
      "p4-v4\n",
      "The experience user model id.p4-v4 has been created.4-v4 ...\n",
      "p4-v5\n",
      "The experience user model id.p4-v5 has been created.4-v5 ...\n",
      "p6-v1\n",
      "The experience user model id.p6-v1 has been created.6-v1 ...\n",
      "p6-v2\n",
      "The experience user model id.p6-v2 has been created.6-v2 ...\n",
      "p6-v3\n",
      "The experience user model id.p6-v3 has been created.6-v3 ...\n",
      "p6-v4\n",
      "The experience user model id.p6-v4 has been created.6-v4 ...\n",
      "p6-v5\n",
      "The experience user model id.p6-v5 has been created.6-v5 ...\n",
      "p8-v1\n",
      "The experience user model id.p8-v1 has been created.8-v1 ...\n",
      "p8-v2\n",
      "The experience user model id.p8-v2 has been created.8-v2 ...\n",
      "p8-v3\n",
      "The experience user model id.p8-v3 has been created.8-v3 ...\n",
      "p8-v4\n",
      "The experience user model id.p8-v4 has been created.8-v4 ...\n",
      "p8-v5\n",
      "The experience user model id.p8-v5 has been created.8-v5 ...\n"
     ]
    }
   ],
   "source": [
    "for p in [0.2, 0.4, 0.6, 0.8] :\n",
    "    for i in range(5) :\n",
    "        id = \"p\" + str(int(p * 10)) + \"-v\" + str(i + 1)\n",
    "        generate_user_experience(df, 10, id, p, mode=2)"
   ]
  },
  {
   "cell_type": "code",
   "execution_count": 65,
   "metadata": {},
   "outputs": [
    {
     "data": {
      "text/html": [
       "<div>\n",
       "<style scoped>\n",
       "    .dataframe tbody tr th:only-of-type {\n",
       "        vertical-align: middle;\n",
       "    }\n",
       "\n",
       "    .dataframe tbody tr th {\n",
       "        vertical-align: top;\n",
       "    }\n",
       "\n",
       "    .dataframe thead th {\n",
       "        text-align: right;\n",
       "    }\n",
       "</style>\n",
       "<table border=\"1\" class=\"dataframe\">\n",
       "  <thead>\n",
       "    <tr style=\"text-align: right;\">\n",
       "      <th></th>\n",
       "      <th>name</th>\n",
       "      <th>id</th>\n",
       "      <th>description</th>\n",
       "      <th>picture</th>\n",
       "      <th>servings</th>\n",
       "      <th>calories</th>\n",
       "      <th>reviews</th>\n",
       "      <th>rating</th>\n",
       "      <th>carbohydrates</th>\n",
       "      <th>dietary fiber</th>\n",
       "      <th>...</th>\n",
       "      <th>saturated fat</th>\n",
       "      <th>cholesterol</th>\n",
       "      <th>calcium</th>\n",
       "      <th>iron</th>\n",
       "      <th>magnesium</th>\n",
       "      <th>potassium</th>\n",
       "      <th>sodium</th>\n",
       "      <th>ingredients</th>\n",
       "      <th>FSA_score</th>\n",
       "      <th>number_ingredients</th>\n",
       "    </tr>\n",
       "  </thead>\n",
       "  <tbody>\n",
       "    <tr>\n",
       "      <th>8339</th>\n",
       "      <td>Pie Crust V</td>\n",
       "      <td>18473</td>\n",
       "      <td>This crust is like a sugar cookie and it's eas...</td>\n",
       "      <td>https://imagesvc.meredithcorp.io/v3/mm/image?u...</td>\n",
       "      <td>8</td>\n",
       "      <td>210.4</td>\n",
       "      <td>64</td>\n",
       "      <td>4.1</td>\n",
       "      <td>22.6</td>\n",
       "      <td>0.6</td>\n",
       "      <td>...</td>\n",
       "      <td>7.4</td>\n",
       "      <td>0.0392</td>\n",
       "      <td>0.0092</td>\n",
       "      <td>0.0011</td>\n",
       "      <td>0.0058</td>\n",
       "      <td>0.0329</td>\n",
       "      <td>0.0867</td>\n",
       "      <td>½ egg #3 tablespoons white sugar #1 pinch salt...</td>\n",
       "      <td>7</td>\n",
       "      <td>5</td>\n",
       "    </tr>\n",
       "  </tbody>\n",
       "</table>\n",
       "<p>1 rows × 22 columns</p>\n",
       "</div>"
      ],
      "text/plain": [
       "             name     id                                        description  \\\n",
       "8339  Pie Crust V  18473  This crust is like a sugar cookie and it's eas...   \n",
       "\n",
       "                                                picture  servings  calories  \\\n",
       "8339  https://imagesvc.meredithcorp.io/v3/mm/image?u...         8     210.4   \n",
       "\n",
       "      reviews  rating  carbohydrates  dietary fiber  ...  saturated fat  \\\n",
       "8339       64     4.1           22.6            0.6  ...            7.4   \n",
       "\n",
       "      cholesterol  calcium    iron  magnesium  potassium  sodium  \\\n",
       "8339       0.0392   0.0092  0.0011     0.0058     0.0329  0.0867   \n",
       "\n",
       "                                            ingredients  FSA_score  \\\n",
       "8339  ½ egg #3 tablespoons white sugar #1 pinch salt...          7   \n",
       "\n",
       "     number_ingredients  \n",
       "8339                  5  \n",
       "\n",
       "[1 rows x 22 columns]"
      ]
     },
     "execution_count": 65,
     "metadata": {},
     "output_type": "execute_result"
    }
   ],
   "source": [
    "df[df[\"id\"] == 18473]"
   ]
  }
 ],
 "metadata": {
  "interpreter": {
   "hash": "8acba5004bc40206a644731bcee493a2a8691de12db2808ba6c10f693827710a"
  },
  "kernelspec": {
   "display_name": "Python 3.9.7 64-bit",
   "language": "python",
   "name": "python3"
  },
  "language_info": {
   "codemirror_mode": {
    "name": "ipython",
    "version": 3
   },
   "file_extension": ".py",
   "mimetype": "text/x-python",
   "name": "python",
   "nbconvert_exporter": "python",
   "pygments_lexer": "ipython3",
   "version": "3.9.7"
  },
  "orig_nbformat": 4
 },
 "nbformat": 4,
 "nbformat_minor": 2
}
