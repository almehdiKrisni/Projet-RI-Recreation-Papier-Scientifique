{
 "cells": [
  {
   "cell_type": "markdown",
   "metadata": {},
   "source": [
    "## **Analyse des données récupérées**\n",
    "\n",
    "#### Membres du binôme :\n",
    "- KRISNI Almehdi\n",
    "- ARICHANDRA Santhos"
   ]
  },
  {
   "cell_type": "code",
   "execution_count": 34,
   "metadata": {},
   "outputs": [
    {
     "name": "stdout",
     "output_type": "stream",
     "text": [
      "The autoreload extension is already loaded. To reload it, use:\n",
      "  %reload_ext autoreload\n"
     ]
    }
   ],
   "source": [
    "# Imports\n",
    "from utils import *\n",
    "\n",
    "# Rechargement automatique des fichiers importés (vu dans l'UE de Data Science en L3)\n",
    "%load_ext autoreload\n",
    "%autoreload 2\n",
    "\n",
    "# On désactive les affichages\n",
    "import warnings\n",
    "warnings.filterwarnings('ignore')"
   ]
  },
  {
   "cell_type": "code",
   "execution_count": 55,
   "metadata": {},
   "outputs": [
    {
     "name": "stdout",
     "output_type": "stream",
     "text": [
      "<class 'pandas.core.frame.DataFrame'>\n",
      "RangeIndex: 298 entries, 0 to 297\n",
      "Data columns (total 20 columns):\n",
      " #   Column         Non-Null Count  Dtype \n",
      "---  ------         --------------  ----- \n",
      " 0   name           298 non-null    object\n",
      " 1   id             298 non-null    object\n",
      " 2   description    298 non-null    object\n",
      " 3   picture        298 non-null    object\n",
      " 4   servings       298 non-null    object\n",
      " 5   calories       298 non-null    object\n",
      " 6   reviews        298 non-null    object\n",
      " 7   rating         298 non-null    object\n",
      " 8   carbohydrates  298 non-null    object\n",
      " 9   dietary fiber  298 non-null    object\n",
      " 10  sugars         298 non-null    object\n",
      " 11  fat            298 non-null    object\n",
      " 12  saturated fat  298 non-null    object\n",
      " 13  cholesterol    298 non-null    object\n",
      " 14  calcium        298 non-null    object\n",
      " 15  iron           298 non-null    object\n",
      " 16  magnesium      298 non-null    object\n",
      " 17  potassium      298 non-null    object\n",
      " 18  sodium         298 non-null    object\n",
      " 19  ingredients    298 non-null    object\n",
      "dtypes: object(20)\n",
      "memory usage: 46.7+ KB\n"
     ]
    }
   ],
   "source": [
    "# On récupère le dataframe pandas contenant toutes les recettes\n",
    "df = pdCreator(10000, 100, 10600)\n",
    "\n",
    "# On affiche les informations du dataFrame\n",
    "df.info()"
   ]
  },
  {
   "cell_type": "code",
   "execution_count": 56,
   "metadata": {},
   "outputs": [],
   "source": [
    "# List of numerical columns in the dataframe\n",
    "numCols = [\"servings\", \"calories\", \"reviews\", \"rating\", \"fat\", \"saturated fat\", \"sodium\", \"sugars\", \"carbohydrates\", \"cholesterol\", \"calcium\", \"iron\", \"magnesium\", \"potassium\", \"dietary fiber\"]\n",
    "for i in numCols :\n",
    "    try :\n",
    "        df[i] = df[i].apply(pd.to_numeric)\n",
    "    except Exception as e:\n",
    "        print(i)\n",
    "        print(str(e))"
   ]
  },
  {
   "cell_type": "code",
   "execution_count": 60,
   "metadata": {},
   "outputs": [
    {
     "name": "stdout",
     "output_type": "stream",
     "text": [
      "244\n",
      "name                                                  Strufoli III\n",
      "id                                                           10244\n",
      "description      These are what my family calls honey balls. We...\n",
      "picture          https://imagesvc.meredithcorp.io/v3/mm/image?u...\n",
      "servings                                                         8\n",
      "calories                                                     856.8\n",
      "reviews                                                          1\n",
      "rating                                                         5.0\n",
      "carbohydrates                                                 81.2\n",
      "dietary fiber                                                  1.1\n",
      "sugars                                                        56.9\n",
      "fat                                                           58.8\n",
      "saturated fat                                                  8.0\n",
      "cholesterol                                                 0.0698\n",
      "calcium                                                     0.0188\n",
      "iron                                                        0.0023\n",
      "magnesium                                                   0.0177\n",
      "potassium                                                   0.1057\n",
      "sodium                                                      0.0291\n",
      "ingredients      2 cups sifted all-purpose flour #3 eggs #1 pin...\n",
      "Name: 244, dtype: object\n"
     ]
    }
   ],
   "source": [
    "# https://towardsdatascience.com/histograms-and-density-plots-in-python-f6bda88f5ac0\n",
    "\n",
    "print(df[\"fat\"].idxmax())\n",
    "print(df.iloc[244])"
   ]
  }
 ],
 "metadata": {
  "interpreter": {
   "hash": "8acba5004bc40206a644731bcee493a2a8691de12db2808ba6c10f693827710a"
  },
  "kernelspec": {
   "display_name": "Python 3.9.7 64-bit",
   "language": "python",
   "name": "python3"
  },
  "language_info": {
   "codemirror_mode": {
    "name": "ipython",
    "version": 3
   },
   "file_extension": ".py",
   "mimetype": "text/x-python",
   "name": "python",
   "nbconvert_exporter": "python",
   "pygments_lexer": "ipython3",
   "version": "3.9.7"
  },
  "orig_nbformat": 4
 },
 "nbformat": 4,
 "nbformat_minor": 2
}
