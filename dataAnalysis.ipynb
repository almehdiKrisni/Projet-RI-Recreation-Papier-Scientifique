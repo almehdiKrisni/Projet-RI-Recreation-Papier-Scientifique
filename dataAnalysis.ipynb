{
 "cells": [
  {
   "cell_type": "markdown",
   "metadata": {},
   "source": [
    "## **Analyse des données récupérées**\n",
    "\n",
    "#### Membres du binôme :\n",
    "- KRISNI Almehdi\n",
    "- ARICHANDRA Santhos"
   ]
  },
  {
   "cell_type": "code",
   "execution_count": 14,
   "metadata": {},
   "outputs": [
    {
     "name": "stdout",
     "output_type": "stream",
     "text": [
      "The autoreload extension is already loaded. To reload it, use:\n",
      "  %reload_ext autoreload\n"
     ]
    }
   ],
   "source": [
    "# Imports\n",
    "from utils import *\n",
    "\n",
    "# Rechargement automatique des fichiers importés (vu dans l'UE de Data Science en L3)\n",
    "%load_ext autoreload\n",
    "%autoreload 2\n",
    "\n",
    "# On désactive les affichages\n",
    "import warnings\n",
    "warnings.filterwarnings('ignore')"
   ]
  },
  {
   "cell_type": "code",
   "execution_count": 15,
   "metadata": {},
   "outputs": [
    {
     "name": "stdout",
     "output_type": "stream",
     "text": [
      "<class 'pandas.core.frame.DataFrame'>\n",
      "RangeIndex: 19867 entries, 0 to 19866\n",
      "Data columns (total 7 columns):\n",
      " #   Column         Non-Null Count  Dtype \n",
      "---  ------         --------------  ----- \n",
      " 0   name           19867 non-null  object\n",
      " 1   id             19867 non-null  object\n",
      " 2   calories       19867 non-null  object\n",
      " 3   sugars         19867 non-null  object\n",
      " 4   fat            19867 non-null  object\n",
      " 5   saturated fat  19867 non-null  object\n",
      " 6   sodium         19867 non-null  object\n",
      "dtypes: object(7)\n",
      "memory usage: 1.1+ MB\n"
     ]
    }
   ],
   "source": [
    "# On récupère le dataframe pandas contenant toutes les recettes avec un ID compris entre startID et endID\n",
    "startID = 1000\n",
    "endID = 40000\n",
    "# On affiche les informations du dataFrame\n",
    "df.info()"
   ]
  },
  {
   "cell_type": "code",
   "execution_count": 16,
   "metadata": {},
   "outputs": [
    {
     "name": "stdout",
     "output_type": "stream",
     "text": [
      "<class 'pandas.core.frame.DataFrame'>\n",
      "RangeIndex: 19867 entries, 0 to 19866\n",
      "Data columns (total 7 columns):\n",
      " #   Column         Non-Null Count  Dtype  \n",
      "---  ------         --------------  -----  \n",
      " 0   name           19867 non-null  object \n",
      " 1   id             19867 non-null  object \n",
      " 2   calories       19867 non-null  float32\n",
      " 3   sugars         19867 non-null  float32\n",
      " 4   fat            19867 non-null  float32\n",
      " 5   saturated fat  19867 non-null  float32\n",
      " 6   sodium         19867 non-null  float32\n",
      "dtypes: float32(5), object(2)\n",
      "memory usage: 698.6+ KB\n"
     ]
    }
   ],
   "source": [
    "# On transforme les colonnes du dataFrame n'étant pas au bon format et on affiche les nouvelles informations\n",
    "for c in df.columns :\n",
    "    if (c != \"name\") and (c != \"id\") :\n",
    "        df[c] = pd.to_numeric(df[c], downcast=\"float\")\n",
    "df.info()"
   ]
  },
  {
   "cell_type": "code",
   "execution_count": 17,
   "metadata": {},
   "outputs": [],
   "source": [
    "# Certaines colonnes ont des valeurs maximales anormales (supérieures à 100g). On doit donc nettoyer les données\n",
    "# for c in df.columns :\n",
    "#     if (c != \"name\") and (c != \"id\") and (c != \"calories\"):\n",
    "#         df.drop(df[df[c] >= 100].index, inplace=True)\n",
    "# df.info()"
   ]
  },
  {
   "cell_type": "code",
   "execution_count": 18,
   "metadata": {},
   "outputs": [
    {
     "name": "stdout",
     "output_type": "stream",
     "text": [
      "name             Deep-Fried Cajun Turkey\n",
      "id                                 37189\n",
      "calories                          8607.0\n",
      "sugars                               1.8\n",
      "fat                           929.700012\n",
      "saturated fat                      160.0\n",
      "sodium                            4.6789\n",
      "Name: 19252, dtype: object\n"
     ]
    }
   ],
   "source": [
    "# Extraction des différentes valeurs qui seront utilisées\n",
    "caloriesdata = df[\"calories\"]\n",
    "sugarsdata = df[\"sugars\"]\n",
    "fatdata = df[\"fat\"]\n",
    "satfatdata = df[\"saturated fat\"]\n",
    "sodiumdata = df[\"sodium\"]\n",
    "\n",
    "print(df.iloc[caloriesdata.idxmax()])"
   ]
  },
  {
   "cell_type": "code",
   "execution_count": 19,
   "metadata": {},
   "outputs": [
    {
     "data": {
      "image/png": "[encoded data removed]",
      "text/plain": [
       "<Figure size 360x360 with 1 Axes>"
      ]
     },
     "metadata": {
      "needs_background": "light"
     },
     "output_type": "display_data"
    },
    {
     "data": {
      "image/png": "[encoded data removed]",
      "text/plain": [
       "<Figure size 360x360 with 1 Axes>"
      ]
     },
     "metadata": {
      "needs_background": "light"
     },
     "output_type": "display_data"
    },
    {
     "data": {
      "image/png": "[encoded data removed]",
      "text/plain": [
       "<Figure size 360x360 with 1 Axes>"
      ]
     },
     "metadata": {
      "needs_background": "light"
     },
     "output_type": "display_data"
    },
    {
     "data": {
      "image/png": "[encoded data removed]",
      "text/plain": [
       "<Figure size 360x360 with 1 Axes>"
      ]
     },
     "metadata": {
      "needs_background": "light"
     },
     "output_type": "display_data"
    }
   ],
   "source": [
    "for c in df.columns :\n",
    "    if (c != \"name\") and (c != \"id\") and (c != \"calories\"):\n",
    "        sns.displot(df, x=c, stat=\"density\")\n",
    "        plt.show()"
   ]
  },
  {
   "cell_type": "code",
   "execution_count": 20,
   "metadata": {},
   "outputs": [
    {
     "data": {
      "text/plain": [
       "(array([1.634e+03, 3.583e+03, 3.704e+03, 3.361e+03, 2.644e+03, 1.894e+03,\n",
       "        1.208e+03, 7.300e+02, 4.390e+02, 2.750e+02, 1.600e+02, 9.400e+01,\n",
       "        4.500e+01, 2.800e+01, 2.400e+01, 9.000e+00, 6.000e+00, 9.000e+00,\n",
       "        3.000e+00, 3.000e+00, 3.000e+00, 2.000e+00, 1.000e+00, 1.000e+00,\n",
       "        0.000e+00, 0.000e+00, 2.000e+00, 0.000e+00, 0.000e+00, 0.000e+00,\n",
       "        0.000e+00, 1.000e+00, 1.000e+00, 1.000e+00, 0.000e+00, 0.000e+00,\n",
       "        0.000e+00, 0.000e+00, 0.000e+00, 0.000e+00, 0.000e+00, 0.000e+00,\n",
       "        0.000e+00, 0.000e+00, 0.000e+00, 0.000e+00, 0.000e+00, 0.000e+00,\n",
       "        1.000e+00, 0.000e+00, 0.000e+00, 0.000e+00, 0.000e+00, 0.000e+00,\n",
       "        0.000e+00, 0.000e+00, 0.000e+00, 0.000e+00, 0.000e+00, 0.000e+00,\n",
       "        0.000e+00, 0.000e+00, 0.000e+00, 0.000e+00, 0.000e+00, 0.000e+00,\n",
       "        0.000e+00, 0.000e+00, 0.000e+00, 0.000e+00, 0.000e+00, 0.000e+00,\n",
       "        0.000e+00, 0.000e+00, 0.000e+00, 0.000e+00, 0.000e+00, 0.000e+00,\n",
       "        0.000e+00, 0.000e+00, 0.000e+00, 0.000e+00, 0.000e+00, 0.000e+00,\n",
       "        0.000e+00, 0.000e+00, 0.000e+00, 0.000e+00, 0.000e+00, 0.000e+00,\n",
       "        0.000e+00, 0.000e+00, 0.000e+00, 0.000e+00, 0.000e+00, 0.000e+00,\n",
       "        0.000e+00, 0.000e+00, 0.000e+00, 1.000e+00]),\n",
       " array([   0.  ,   86.07,  172.14,  258.21,  344.28,  430.35,  516.42,\n",
       "         602.49,  688.56,  774.63,  860.7 ,  946.77, 1032.84, 1118.91,\n",
       "        1204.98, 1291.05, 1377.12, 1463.19, 1549.26, 1635.33, 1721.4 ,\n",
       "        1807.47, 1893.54, 1979.61, 2065.68, 2151.75, 2237.82, 2323.89,\n",
       "        2409.96, 2496.03, 2582.1 , 2668.17, 2754.24, 2840.31, 2926.38,\n",
       "        3012.45, 3098.52, 3184.59, 3270.66, 3356.73, 3442.8 , 3528.87,\n",
       "        3614.94, 3701.01, 3787.08, 3873.15, 3959.22, 4045.29, 4131.36,\n",
       "        4217.43, 4303.5 , 4389.57, 4475.64, 4561.71, 4647.78, 4733.85,\n",
       "        4819.92, 4905.99, 4992.06, 5078.13, 5164.2 , 5250.27, 5336.34,\n",
       "        5422.41, 5508.48, 5594.55, 5680.62, 5766.69, 5852.76, 5938.83,\n",
       "        6024.9 , 6110.97, 6197.04, 6283.11, 6369.18, 6455.25, 6541.32,\n",
       "        6627.39, 6713.46, 6799.53, 6885.6 , 6971.67, 7057.74, 7143.81,\n",
       "        7229.88, 7315.95, 7402.02, 7488.09, 7574.16, 7660.23, 7746.3 ,\n",
       "        7832.37, 7918.44, 8004.51, 8090.58, 8176.65, 8262.72, 8348.79,\n",
       "        8434.86, 8520.93, 8607.  ], dtype=float32),\n",
       " <BarContainer object of 100 artists>)"
      ]
     },
     "execution_count": 20,
     "metadata": {},
     "output_type": "execute_result"
    },
    {
     "data": {
      "image/png": "[encoded data removed]",
      "text/plain": [
       "<Figure size 432x288 with 1 Axes>"
      ]
     },
     "metadata": {
      "needs_background": "light"
     },
     "output_type": "display_data"
    }
   ],
   "source": [
    "# matplotlib histogram\n",
    "plt.hist(caloriesdata, color = 'blue', edgecolor = 'black', bins = 100)"
   ]
  }
 ],
 "metadata": {
  "interpreter": {
   "hash": "0882f64853dad4c2959728fd5765a8f4f31953d4de2b55ec484562a906c43e55"
  },
  "kernelspec": {
   "display_name": "Python 3.9.7 64-bit",
   "language": "python",
   "name": "python3"
  },
  "language_info": {
   "codemirror_mode": {
    "name": "ipython",
    "version": 3
   },
   "file_extension": ".py",
   "mimetype": "text/x-python",
   "name": "python",
   "nbconvert_exporter": "python",
   "pygments_lexer": "ipython3",
   "version": "3.9.7"
  },
  "orig_nbformat": 4
 },
 "nbformat": 4,
 "nbformat_minor": 2
}
