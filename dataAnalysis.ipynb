{
 "cells": [
  {
   "cell_type": "markdown",
   "metadata": {},
   "source": [
    "## **Analyse des données récupérées**\n",
    "\n",
    "#### Membres du binôme :\n",
    "- KRISNI Almehdi\n",
    "- ARICHANDRA Santhos"
   ]
  },
  {
   "cell_type": "code",
   "execution_count": 26,
   "metadata": {},
   "outputs": [
    {
     "name": "stdout",
     "output_type": "stream",
     "text": [
      "The autoreload extension is already loaded. To reload it, use:\n",
      "  %reload_ext autoreload\n"
     ]
    }
   ],
   "source": [
    "# Imports\n",
    "from utils import *\n",
    "\n",
    "# Rechargement automatique des fichiers importés (vu dans l'UE de Data Science en L3)\n",
    "%load_ext autoreload\n",
    "%autoreload 2\n",
    "\n",
    "# On désactive les affichages\n",
    "import warnings\n",
    "warnings.filterwarnings('ignore')"
   ]
  },
  {
   "cell_type": "code",
   "execution_count": 27,
   "metadata": {},
   "outputs": [
    {
     "name": "stdout",
     "output_type": "stream",
     "text": [
      "<class 'pandas.core.frame.DataFrame'>\n",
      "Int64Index: 7876 entries, 0 to 7877\n",
      "Data columns (total 20 columns):\n",
      " #   Column         Non-Null Count  Dtype  \n",
      "---  ------         --------------  -----  \n",
      " 0   name           7876 non-null   object \n",
      " 1   id             7876 non-null   int64  \n",
      " 2   description    7876 non-null   object \n",
      " 3   picture        7876 non-null   object \n",
      " 4   servings       7876 non-null   int64  \n",
      " 5   calories       7876 non-null   float64\n",
      " 6   reviews        7876 non-null   int64  \n",
      " 7   rating         7876 non-null   float64\n",
      " 8   carbohydrates  7876 non-null   float64\n",
      " 9   dietary fiber  7876 non-null   float64\n",
      " 10  sugars         7876 non-null   float64\n",
      " 11  fat            7876 non-null   float64\n",
      " 12  saturated fat  7876 non-null   float64\n",
      " 13  cholesterol    7876 non-null   float64\n",
      " 14  calcium        7876 non-null   float64\n",
      " 15  iron           7876 non-null   float64\n",
      " 16  magnesium      7876 non-null   float64\n",
      " 17  potassium      7876 non-null   float64\n",
      " 18  sodium         7876 non-null   float64\n",
      " 19  ingredients    7876 non-null   object \n",
      "dtypes: float64(13), int64(3), object(4)\n",
      "memory usage: 1.3+ MB\n"
     ]
    }
   ],
   "source": [
    "# On récupère le dataframe pandas contenant toutes les recettes\n",
    "df = pdCreator(10000, 100, 18000)\n",
    "\n",
    "# On affiche les informations du dataFrame\n",
    "df.info()"
   ]
  },
  {
   "cell_type": "code",
   "execution_count": 28,
   "metadata": {},
   "outputs": [
    {
     "data": {
      "text/html": [
       "<div>\n",
       "<style scoped>\n",
       "    .dataframe tbody tr th:only-of-type {\n",
       "        vertical-align: middle;\n",
       "    }\n",
       "\n",
       "    .dataframe tbody tr th {\n",
       "        vertical-align: top;\n",
       "    }\n",
       "\n",
       "    .dataframe thead th {\n",
       "        text-align: right;\n",
       "    }\n",
       "</style>\n",
       "<table border=\"1\" class=\"dataframe\">\n",
       "  <thead>\n",
       "    <tr style=\"text-align: right;\">\n",
       "      <th></th>\n",
       "      <th>id</th>\n",
       "      <th>servings</th>\n",
       "      <th>calories</th>\n",
       "      <th>reviews</th>\n",
       "      <th>rating</th>\n",
       "      <th>carbohydrates</th>\n",
       "      <th>dietary fiber</th>\n",
       "      <th>sugars</th>\n",
       "      <th>fat</th>\n",
       "      <th>saturated fat</th>\n",
       "      <th>cholesterol</th>\n",
       "      <th>calcium</th>\n",
       "      <th>iron</th>\n",
       "      <th>magnesium</th>\n",
       "      <th>potassium</th>\n",
       "      <th>sodium</th>\n",
       "    </tr>\n",
       "  </thead>\n",
       "  <tbody>\n",
       "    <tr>\n",
       "      <th>0</th>\n",
       "      <td>10000</td>\n",
       "      <td>12</td>\n",
       "      <td>599.7</td>\n",
       "      <td>38</td>\n",
       "      <td>3.8</td>\n",
       "      <td>86.6</td>\n",
       "      <td>2.6</td>\n",
       "      <td>54.1</td>\n",
       "      <td>26.9</td>\n",
       "      <td>11.6</td>\n",
       "      <td>0.0640</td>\n",
       "      <td>0.1253</td>\n",
       "      <td>0.0025</td>\n",
       "      <td>0.0392</td>\n",
       "      <td>0.1812</td>\n",
       "      <td>0.4130</td>\n",
       "    </tr>\n",
       "    <tr>\n",
       "      <th>1</th>\n",
       "      <td>10001</td>\n",
       "      <td>12</td>\n",
       "      <td>357.6</td>\n",
       "      <td>13</td>\n",
       "      <td>4.3</td>\n",
       "      <td>35.5</td>\n",
       "      <td>2.0</td>\n",
       "      <td>17.2</td>\n",
       "      <td>22.6</td>\n",
       "      <td>10.8</td>\n",
       "      <td>0.1027</td>\n",
       "      <td>0.0968</td>\n",
       "      <td>0.0021</td>\n",
       "      <td>0.0296</td>\n",
       "      <td>0.1525</td>\n",
       "      <td>0.1965</td>\n",
       "    </tr>\n",
       "    <tr>\n",
       "      <th>2</th>\n",
       "      <td>10002</td>\n",
       "      <td>30</td>\n",
       "      <td>200.0</td>\n",
       "      <td>6</td>\n",
       "      <td>3.9</td>\n",
       "      <td>21.9</td>\n",
       "      <td>0.7</td>\n",
       "      <td>14.6</td>\n",
       "      <td>11.6</td>\n",
       "      <td>2.7</td>\n",
       "      <td>0.0124</td>\n",
       "      <td>0.0135</td>\n",
       "      <td>0.0007</td>\n",
       "      <td>0.0162</td>\n",
       "      <td>0.0799</td>\n",
       "      <td>0.1273</td>\n",
       "    </tr>\n",
       "    <tr>\n",
       "      <th>3</th>\n",
       "      <td>10003</td>\n",
       "      <td>24</td>\n",
       "      <td>116.3</td>\n",
       "      <td>154</td>\n",
       "      <td>4.0</td>\n",
       "      <td>10.9</td>\n",
       "      <td>0.2</td>\n",
       "      <td>2.5</td>\n",
       "      <td>7.8</td>\n",
       "      <td>4.9</td>\n",
       "      <td>0.0203</td>\n",
       "      <td>0.0035</td>\n",
       "      <td>0.0004</td>\n",
       "      <td>0.0020</td>\n",
       "      <td>0.0108</td>\n",
       "      <td>0.0549</td>\n",
       "    </tr>\n",
       "    <tr>\n",
       "      <th>4</th>\n",
       "      <td>10004</td>\n",
       "      <td>8</td>\n",
       "      <td>108.1</td>\n",
       "      <td>19</td>\n",
       "      <td>4.7</td>\n",
       "      <td>26.0</td>\n",
       "      <td>0.0</td>\n",
       "      <td>25.2</td>\n",
       "      <td>0.0</td>\n",
       "      <td>0.0</td>\n",
       "      <td>0.0000</td>\n",
       "      <td>0.0011</td>\n",
       "      <td>0.0000</td>\n",
       "      <td>0.0015</td>\n",
       "      <td>0.0213</td>\n",
       "      <td>0.0213</td>\n",
       "    </tr>\n",
       "  </tbody>\n",
       "</table>\n",
       "</div>"
      ],
      "text/plain": [
       "      id  servings  calories  reviews  rating  carbohydrates  dietary fiber  \\\n",
       "0  10000        12     599.7       38     3.8           86.6            2.6   \n",
       "1  10001        12     357.6       13     4.3           35.5            2.0   \n",
       "2  10002        30     200.0        6     3.9           21.9            0.7   \n",
       "3  10003        24     116.3      154     4.0           10.9            0.2   \n",
       "4  10004         8     108.1       19     4.7           26.0            0.0   \n",
       "\n",
       "   sugars   fat  saturated fat  cholesterol  calcium    iron  magnesium  \\\n",
       "0    54.1  26.9           11.6       0.0640   0.1253  0.0025     0.0392   \n",
       "1    17.2  22.6           10.8       0.1027   0.0968  0.0021     0.0296   \n",
       "2    14.6  11.6            2.7       0.0124   0.0135  0.0007     0.0162   \n",
       "3     2.5   7.8            4.9       0.0203   0.0035  0.0004     0.0020   \n",
       "4    25.2   0.0            0.0       0.0000   0.0011  0.0000     0.0015   \n",
       "\n",
       "   potassium  sodium  \n",
       "0     0.1812  0.4130  \n",
       "1     0.1525  0.1965  \n",
       "2     0.0799  0.1273  \n",
       "3     0.0108  0.0549  \n",
       "4     0.0213  0.0213  "
      ]
     },
     "execution_count": 28,
     "metadata": {},
     "output_type": "execute_result"
    }
   ],
   "source": [
    "# Exclude string columns\n",
    "dfNoStr = df.select_dtypes(exclude=['object'])\n",
    "dfNoStr.head(5)"
   ]
  },
  {
   "cell_type": "code",
   "execution_count": 29,
   "metadata": {},
   "outputs": [
    {
     "name": "stdout",
     "output_type": "stream",
     "text": [
      "6116\n",
      "name                                  Chocolate Sandwich Cookies I\n",
      "id                                                           10000\n",
      "description      Excellent frozen. I have played with this over...\n",
      "picture          https://imagesvc.meredithcorp.io/v3/mm/image?u...\n",
      "servings                                                        12\n",
      "calories                                                     599.7\n",
      "reviews                                                         38\n",
      "rating                                                         3.8\n",
      "carbohydrates                                                 86.6\n",
      "dietary fiber                                                  2.6\n",
      "sugars                                                        54.1\n",
      "fat                                                           26.9\n",
      "saturated fat                                                 11.6\n",
      "cholesterol                                                  0.064\n",
      "calcium                                                     0.1253\n",
      "iron                                                        0.0025\n",
      "magnesium                                                   0.0392\n",
      "potassium                                                   0.1812\n",
      "sodium                                                       0.413\n",
      "ingredients      3 cups all-purpose flour #1 ½ cups white sugar...\n",
      "Name: 0, dtype: object\n"
     ]
    }
   ],
   "source": [
    "# https://towardsdatascience.com/histograms-and-density-plots-in-python-f6bda88f5ac0\n",
    "\n",
    "# How we access a max value example\n",
    "print(df[\"fat\"].idxmax())\n",
    "print(df.iloc[0])"
   ]
  },
  {
   "cell_type": "code",
   "execution_count": 30,
   "metadata": {},
   "outputs": [
    {
     "data": {
      "text/plain": [
       "(0.9843809523809524,\n",
       " 0.9504761904761905,\n",
       " 0.9095873015873016,\n",
       " 0.8416507936507936)"
      ]
     },
     "execution_count": 30,
     "metadata": {},
     "output_type": "execute_result"
    }
   ],
   "source": [
    "tmp = allCosSim(dfNoStr, 10000)\n",
    "recipeSimStats(tmp)"
   ]
  },
  {
   "cell_type": "code",
   "execution_count": 31,
   "metadata": {},
   "outputs": [
    {
     "name": "stdout",
     "output_type": "stream",
     "text": [
      "Brigtness :\t 122.2979888888889\n",
      "Sharpness :\t 9.374180970660415\n",
      "Colorfulness :\t 20.11340526415148\n",
      "Contrast :\t 1.0\n"
     ]
    },
    {
     "data": {
      "text/plain": [
       "(122.2979888888889, 9.374180970660415, 20.11340526415148, 1.0)"
      ]
     },
     "execution_count": 31,
     "metadata": {},
     "output_type": "execute_result"
    }
   ],
   "source": [
    "picStats(10000)"
   ]
  },
  {
   "cell_type": "code",
   "execution_count": 32,
   "metadata": {},
   "outputs": [
    {
     "name": "stdout",
     "output_type": "stream",
     "text": [
      "<class 'pandas.core.frame.DataFrame'>\n",
      "Int64Index: 7384 entries, 0 to 7877\n",
      "Data columns (total 16 columns):\n",
      " #   Column         Non-Null Count  Dtype  \n",
      "---  ------         --------------  -----  \n",
      " 0   id             7384 non-null   int64  \n",
      " 1   servings       7384 non-null   int64  \n",
      " 2   calories       7384 non-null   float64\n",
      " 3   reviews        7384 non-null   int64  \n",
      " 4   rating         7384 non-null   float64\n",
      " 5   carbohydrates  7384 non-null   float64\n",
      " 6   dietary fiber  7384 non-null   float64\n",
      " 7   sugars         7384 non-null   float64\n",
      " 8   fat            7384 non-null   float64\n",
      " 9   saturated fat  7384 non-null   float64\n",
      " 10  cholesterol    7384 non-null   float64\n",
      " 11  calcium        7384 non-null   float64\n",
      " 12  iron           7384 non-null   float64\n",
      " 13  magnesium      7384 non-null   float64\n",
      " 14  potassium      7384 non-null   float64\n",
      " 15  sodium         7384 non-null   float64\n",
      "dtypes: float64(13), int64(3)\n",
      "memory usage: 980.7 KB\n"
     ]
    }
   ],
   "source": [
    "# We generate a dataframe with only the recipes with pictures\n",
    "picDf = removeNoPictures(df)\n",
    "transfPicDf = picDf.select_dtypes(exclude=['object'])\n",
    "transfPicDf.info()"
   ]
  },
  {
   "cell_type": "code",
   "execution_count": 33,
   "metadata": {},
   "outputs": [
    {
     "name": "stdout",
     "output_type": "stream",
     "text": [
      "<class 'pandas.core.frame.DataFrame'>\n",
      "Int64Index: 7384 entries, 0 to 7877\n",
      "Data columns (total 20 columns):\n",
      " #   Column         Non-Null Count  Dtype  \n",
      "---  ------         --------------  -----  \n",
      " 0   name           7384 non-null   object \n",
      " 1   id             7384 non-null   int64  \n",
      " 2   description    7384 non-null   object \n",
      " 3   picture        7384 non-null   object \n",
      " 4   servings       7384 non-null   int64  \n",
      " 5   calories       7384 non-null   float64\n",
      " 6   reviews        7384 non-null   int64  \n",
      " 7   rating         7384 non-null   float64\n",
      " 8   carbohydrates  7384 non-null   float64\n",
      " 9   dietary fiber  7384 non-null   float64\n",
      " 10  sugars         7384 non-null   float64\n",
      " 11  fat            7384 non-null   float64\n",
      " 12  saturated fat  7384 non-null   float64\n",
      " 13  cholesterol    7384 non-null   float64\n",
      " 14  calcium        7384 non-null   float64\n",
      " 15  iron           7384 non-null   float64\n",
      " 16  magnesium      7384 non-null   float64\n",
      " 17  potassium      7384 non-null   float64\n",
      " 18  sodium         7384 non-null   float64\n",
      " 19  ingredients    7384 non-null   object \n",
      "dtypes: float64(13), int64(3), object(4)\n",
      "memory usage: 1.2+ MB\n"
     ]
    }
   ],
   "source": [
    "picDf.info()"
   ]
  },
  {
   "cell_type": "code",
   "execution_count": 39,
   "metadata": {},
   "outputs": [
    {
     "name": "stdout",
     "output_type": "stream",
     "text": [
      "The experience user model id.4 has been created.n.4 ...\n"
     ]
    }
   ],
   "source": [
    "generate_user_experience(transfPicDf, picDf, 3, 4, 0.9999)"
   ]
  }
 ],
 "metadata": {
  "interpreter": {
   "hash": "8acba5004bc40206a644731bcee493a2a8691de12db2808ba6c10f693827710a"
  },
  "kernelspec": {
   "display_name": "Python 3.9.7 64-bit",
   "language": "python",
   "name": "python3"
  },
  "language_info": {
   "codemirror_mode": {
    "name": "ipython",
    "version": 3
   },
   "file_extension": ".py",
   "mimetype": "text/x-python",
   "name": "python",
   "nbconvert_exporter": "python",
   "pygments_lexer": "ipython3",
   "version": "3.9.7"
  },
  "orig_nbformat": 4
 },
 "nbformat": 4,
 "nbformat_minor": 2
}
