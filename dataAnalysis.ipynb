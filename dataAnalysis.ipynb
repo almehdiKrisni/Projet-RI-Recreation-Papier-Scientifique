{
 "cells": [
  {
   "cell_type": "markdown",
   "metadata": {},
   "source": [
    "## **Analyse des données récupérées**\n",
    "\n",
    "#### Membres du binôme :\n",
    "- KRISNI Almehdi\n",
    "- ARICHANDRA Santhos"
   ]
  },
  {
   "cell_type": "code",
   "execution_count": 28,
   "metadata": {},
   "outputs": [
    {
     "name": "stdout",
     "output_type": "stream",
     "text": [
      "The autoreload extension is already loaded. To reload it, use:\n",
      "  %reload_ext autoreload\n"
     ]
    }
   ],
   "source": [
    "# Imports\n",
    "from utils import *\n",
    "\n",
    "# Rechargement automatique des fichiers importés (vu dans l'UE de Data Science en L3)\n",
    "%load_ext autoreload\n",
    "%autoreload 2\n",
    "\n",
    "# On désactive les affichages\n",
    "import warnings\n",
    "warnings.filterwarnings('ignore')"
   ]
  },
  {
   "cell_type": "markdown",
   "metadata": {},
   "source": [
    "## Dataframe creation and management"
   ]
  },
  {
   "cell_type": "code",
   "execution_count": 2,
   "metadata": {},
   "outputs": [
    {
     "name": "stdout",
     "output_type": "stream",
     "text": [
      "<class 'pandas.core.frame.DataFrame'>\n",
      "Int64Index: 13494 entries, 0 to 13495\n",
      "Data columns (total 20 columns):\n",
      " #   Column         Non-Null Count  Dtype  \n",
      "---  ------         --------------  -----  \n",
      " 0   name           13494 non-null  object \n",
      " 1   id             13494 non-null  int64  \n",
      " 2   description    13494 non-null  object \n",
      " 3   picture        13494 non-null  object \n",
      " 4   servings       13494 non-null  int64  \n",
      " 5   calories       13494 non-null  float64\n",
      " 6   reviews        13494 non-null  int64  \n",
      " 7   rating         13494 non-null  float64\n",
      " 8   carbohydrates  13494 non-null  float64\n",
      " 9   dietary fiber  13494 non-null  float64\n",
      " 10  sugars         13494 non-null  float64\n",
      " 11  fat            13494 non-null  float64\n",
      " 12  saturated fat  13494 non-null  float64\n",
      " 13  cholesterol    13494 non-null  float64\n",
      " 14  calcium        13494 non-null  float64\n",
      " 15  iron           13494 non-null  float64\n",
      " 16  magnesium      13494 non-null  float64\n",
      " 17  potassium      13494 non-null  float64\n",
      " 18  sodium         13494 non-null  float64\n",
      " 19  ingredients    13494 non-null  object \n",
      "dtypes: float64(13), int64(3), object(4)\n",
      "memory usage: 2.2+ MB\n"
     ]
    }
   ],
   "source": [
    "# We create the dataframe containing all the recipes collected and clear the NaN values in case\n",
    "df = recipeDfMaker(10000, 100, 25000)\n",
    "df.dropna()\n",
    "df.info()"
   ]
  },
  {
   "cell_type": "code",
   "execution_count": 3,
   "metadata": {},
   "outputs": [
    {
     "name": "stdout",
     "output_type": "stream",
     "text": [
      "<class 'pandas.core.frame.DataFrame'>\n",
      "Int64Index: 13494 entries, 0 to 13495\n",
      "Data columns (total 25 columns):\n",
      " #   Column                Non-Null Count  Dtype  \n",
      "---  ------                --------------  -----  \n",
      " 0   name                  13494 non-null  object \n",
      " 1   id                    13494 non-null  int64  \n",
      " 2   description           13494 non-null  object \n",
      " 3   picture               13494 non-null  object \n",
      " 4   servings              13494 non-null  int64  \n",
      " 5   calories              13494 non-null  float64\n",
      " 6   reviews               13494 non-null  int64  \n",
      " 7   rating                13494 non-null  float64\n",
      " 8   carbohydrates         13494 non-null  float64\n",
      " 9   dietary fiber         13494 non-null  float64\n",
      " 10  sugars                13494 non-null  float64\n",
      " 11  fat                   13494 non-null  float64\n",
      " 12  saturated fat         13494 non-null  float64\n",
      " 13  cholesterol           13494 non-null  float64\n",
      " 14  calcium               13494 non-null  float64\n",
      " 15  iron                  13494 non-null  float64\n",
      " 16  magnesium             13494 non-null  float64\n",
      " 17  potassium             13494 non-null  float64\n",
      " 18  sodium                13494 non-null  float64\n",
      " 19  ingredients           13494 non-null  object \n",
      " 20  sharpness_picture     13492 non-null  float64\n",
      " 21  brightness_picture    13492 non-null  float64\n",
      " 22  entropy_picture       13492 non-null  float64\n",
      " 23  colorfulness_picture  13492 non-null  float64\n",
      " 24  contrast_picture      13492 non-null  float64\n",
      "dtypes: float64(18), int64(3), object(4)\n",
      "memory usage: 2.7+ MB\n"
     ]
    }
   ],
   "source": [
    "# We fuse the picture data to the dataframe\n",
    "picdf = pictureDataDfMaker(10000, 100, 25000)\n",
    "picdf.dropna()\n",
    "fuseDfPictureData(df, picdf)\n",
    "df.info()"
   ]
  },
  {
   "cell_type": "code",
   "execution_count": 4,
   "metadata": {},
   "outputs": [
    {
     "name": "stdout",
     "output_type": "stream",
     "text": [
      "<class 'pandas.core.frame.DataFrame'>\n",
      "Int64Index: 12594 entries, 0 to 13495\n",
      "Data columns (total 25 columns):\n",
      " #   Column                Non-Null Count  Dtype  \n",
      "---  ------                --------------  -----  \n",
      " 0   name                  12594 non-null  object \n",
      " 1   id                    12594 non-null  int64  \n",
      " 2   description           12594 non-null  object \n",
      " 3   picture               12594 non-null  object \n",
      " 4   servings              12594 non-null  int64  \n",
      " 5   calories              12594 non-null  float64\n",
      " 6   reviews               12594 non-null  int64  \n",
      " 7   rating                12594 non-null  float64\n",
      " 8   carbohydrates         12594 non-null  float64\n",
      " 9   dietary fiber         12594 non-null  float64\n",
      " 10  sugars                12594 non-null  float64\n",
      " 11  fat                   12594 non-null  float64\n",
      " 12  saturated fat         12594 non-null  float64\n",
      " 13  cholesterol           12594 non-null  float64\n",
      " 14  calcium               12594 non-null  float64\n",
      " 15  iron                  12594 non-null  float64\n",
      " 16  magnesium             12594 non-null  float64\n",
      " 17  potassium             12594 non-null  float64\n",
      " 18  sodium                12594 non-null  float64\n",
      " 19  ingredients           12594 non-null  object \n",
      " 20  sharpness_picture     12592 non-null  float64\n",
      " 21  brightness_picture    12592 non-null  float64\n",
      " 22  entropy_picture       12592 non-null  float64\n",
      " 23  colorfulness_picture  12592 non-null  float64\n",
      " 24  contrast_picture      12592 non-null  float64\n",
      "dtypes: float64(18), int64(3), object(4)\n",
      "memory usage: 2.5+ MB\n"
     ]
    }
   ],
   "source": [
    "# We remove the pictures\n",
    "picdf = removeNoPictures(df)\n",
    "picdf.info()"
   ]
  },
  {
   "cell_type": "code",
   "execution_count": 5,
   "metadata": {},
   "outputs": [],
   "source": [
    "# We compute the FSA scores\n",
    "computeFSAscore(df)"
   ]
  },
  {
   "cell_type": "code",
   "execution_count": 6,
   "metadata": {},
   "outputs": [],
   "source": [
    "# We compute the number of ingredients per recipe\n",
    "computeNumberIngredients(df)"
   ]
  },
  {
   "cell_type": "markdown",
   "metadata": {},
   "source": [
    "## Vizualisation"
   ]
  },
  {
   "cell_type": "code",
   "execution_count": 7,
   "metadata": {},
   "outputs": [],
   "source": [
    "# Plot parameter (style)\n",
    "plt.style.use('ggplot')"
   ]
  },
  {
   "cell_type": "code",
   "execution_count": 8,
   "metadata": {},
   "outputs": [
    {
     "data": {
      "image/png": "[encoded data removed]",
      "text/plain": [
       "<Figure size 432x288 with 1 Axes>"
      ]
     },
     "metadata": {},
     "output_type": "display_data"
    }
   ],
   "source": [
    "# We plot the FSA score distribution\n",
    "labels, counts = np.unique(df[\"FSA_score\"].tolist(), return_counts=True)\n",
    "counts = [counts[i] / sum(counts) for i in range(len(counts))]\n",
    "plt.bar(labels, counts, align='center')\n",
    "plt.gca().set_xticks(labels)\n",
    "plt.title(\"Distribution of FSA score values\")\n",
    "plt.xlabel(\"FSA score\")\n",
    "plt.ylabel(\"Probability\")\n",
    "plt.savefig('bin/visual/fsa_score_distribution.png', bbox_inches='tight')\n",
    "plt.show()"
   ]
  },
  {
   "cell_type": "code",
   "execution_count": 9,
   "metadata": {},
   "outputs": [
    {
     "data": {
      "image/png": "[encoded data removed]",
      "text/plain": [
       "<Figure size 432x288 with 1 Axes>"
      ]
     },
     "metadata": {},
     "output_type": "display_data"
    }
   ],
   "source": [
    "# We plot the distribution of the number of ingredients per recipe\n",
    "labels, counts = np.unique(df[\"number_ingredients\"].tolist(), return_counts=True)\n",
    "counts = [counts[i] / sum(counts) for i in range(len(counts))]\n",
    "plt.bar(labels, counts, align='center')\n",
    "plt.gca().set_xticks(labels)\n",
    "plt.title(\"Distribution of the number of ingredients\")\n",
    "plt.xlabel(\"Number of ingredients\")\n",
    "plt.ylabel(\"Number of recipes\")\n",
    "plt.savefig('bin/visual/ingredients_number_distribution.png', bbox_inches='tight')\n",
    "plt.show()"
   ]
  },
  {
   "cell_type": "code",
   "execution_count": 10,
   "metadata": {},
   "outputs": [],
   "source": [
    "# We find the mean cosine similarities for a sample size of 1000 recipes\n",
    "# l2, l4, l6, l8 = computeSimilarityOdds(df.sample(int(1000)))"
   ]
  },
  {
   "cell_type": "markdown",
   "metadata": {},
   "source": [
    "We only give the formula for the sample size = 1000. It takes approximately 30 minutes to compute the values for 1000 recipes and 2 hours for 2000 exemples. \n",
    "<br>We have copied the results into a list below in order to keep them safe."
   ]
  },
  {
   "cell_type": "code",
   "execution_count": 11,
   "metadata": {},
   "outputs": [],
   "source": [
    "# Similarities\n",
    "xlabels = [0, 1000, 2000, 3000, 4000, 5000]\n",
    "cos2values = [0, 0.806, 0.804, 0.809, 0.798, 0.799]\n",
    "cos4values = [0, 0.525, 0.542, 0.537, 0.534, 0.535]\n",
    "cos6values = [0, 0.019, 0.020, 0.019, 0.019, 0.018]\n",
    "cos8values = [0, 0.0002, 0.0002, 0.0002, 0.0002, 0.0002]\n",
    "\n",
    "sizecos2values = [0] + [int(cos2values[i] * (i * 1000)) for i in range(1, len(xlabels))]\n",
    "sizecos4values = [0] + [int(cos4values[i] * (i * 1000)) for i in range(1, len(xlabels))]\n",
    "sizecos6values = [0] + [int(cos6values[i] * (i * 1000)) for i in range(1, len(xlabels))]\n",
    "sizecos8values = [0] + [int(cos8values[i] * (i * 1000)) for i in range(1, len(xlabels))]"
   ]
  },
  {
   "cell_type": "code",
   "execution_count": 12,
   "metadata": {},
   "outputs": [
    {
     "data": {
      "image/png": "[encoded data removed]",
      "text/plain": [
       "<Figure size 432x288 with 1 Axes>"
      ]
     },
     "metadata": {},
     "output_type": "display_data"
    }
   ],
   "source": [
    "# Ploting the evolution of the number of similar recipes based on the size of the sample and the shared cosine similarity\n",
    "plt.title(\"Number of similar recipes based on the cosine similarity and the studied sample size\")\n",
    "plt.plot(xlabels, sizecos2values, \"r-.\", label=\">= 0.2\")\n",
    "plt.plot(xlabels, sizecos4values, \"g-.\", label=\">= 0.4\")\n",
    "plt.plot(xlabels, sizecos6values, \"b-.\", label=\">= 0.6\")\n",
    "plt.plot(xlabels, sizecos8values, \"m-.\", label=\">= 0.8\")\n",
    "plt.xlabel(\"Recipe pool size\")\n",
    "plt.ylabel(\"Mean number of similar recipes\")\n",
    "plt.legend(title=\"Cos-sim values\", bbox_to_anchor=(1.05, 1.0), loc='upper left')\n",
    "plt.savefig('bin/visual/cossim_recipes_odds.png', bbox_inches='tight')\n",
    "plt.show()"
   ]
  },
  {
   "cell_type": "markdown",
   "metadata": {},
   "source": [
    "## A selection of recipe pairs"
   ]
  },
  {
   "cell_type": "code",
   "execution_count": 13,
   "metadata": {},
   "outputs": [
    {
     "name": "stdout",
     "output_type": "stream",
     "text": [
      "Recipe pairs chosen at random\n"
     ]
    }
   ],
   "source": [
    "# We iterate on 10 different recipe and find a pair in the recipe pool\n",
    "print(\"Recipe pairs chosen at random\")\n",
    "n = 0\n",
    "\n",
    "todo = False\n",
    "\n",
    "if todo :\n",
    "    while (n < 6) :\n",
    "        # We take a random id from the dataframe \n",
    "        r1 = random.choice(df[\"id\"].tolist())\n",
    "\n",
    "        # We now generate the list of similar recipes and pick a random id\n",
    "        simRecipesId = findSimRecipes(df, r1, 0.8, mode=2)\n",
    "\n",
    "        # We check if there are similar recipes\n",
    "        if (len(simRecipesId) > 0) :\n",
    "            n += 1\n",
    "\n",
    "            # We choose a random recipe B from the list\n",
    "            r2 = random.choice(simRecipesId)\n",
    "\n",
    "            print(df.loc[df[\"id\"] == r1][\"name\"].values[0], \"\\t-\\t\", df.loc[df[\"id\"] == r2][\"name\"].values[0])"
   ]
  },
  {
   "cell_type": "markdown",
   "metadata": {},
   "source": [
    "## Study results"
   ]
  },
  {
   "cell_type": "code",
   "execution_count": 14,
   "metadata": {},
   "outputs": [],
   "source": [
    "# Dictionnary used to convert the information choice value into strings for better comprehension\n",
    "convertIndexChoice = {1 : \"Picture\", 2 : \"Name\", 3 : \"Ingredients\"}"
   ]
  },
  {
   "cell_type": "markdown",
   "metadata": {},
   "source": [
    "### First study analysis"
   ]
  },
  {
   "cell_type": "code",
   "execution_count": 15,
   "metadata": {},
   "outputs": [
    {
     "data": {
      "text/html": [
       "<div>\n",
       "<style scoped>\n",
       "    .dataframe tbody tr th:only-of-type {\n",
       "        vertical-align: middle;\n",
       "    }\n",
       "\n",
       "    .dataframe tbody tr th {\n",
       "        vertical-align: top;\n",
       "    }\n",
       "\n",
       "    .dataframe thead th {\n",
       "        text-align: right;\n",
       "    }\n",
       "</style>\n",
       "<table border=\"1\" class=\"dataframe\">\n",
       "  <thead>\n",
       "    <tr style=\"text-align: right;\">\n",
       "      <th></th>\n",
       "      <th>recipe_A_id</th>\n",
       "      <th>recipe_B_id</th>\n",
       "      <th>recipe_choice</th>\n",
       "      <th>information_choice</th>\n",
       "      <th>expected_answer</th>\n",
       "    </tr>\n",
       "  </thead>\n",
       "  <tbody>\n",
       "    <tr>\n",
       "      <th>0</th>\n",
       "      <td>15604</td>\n",
       "      <td>15811</td>\n",
       "      <td>1</td>\n",
       "      <td>1</td>\n",
       "      <td>1</td>\n",
       "    </tr>\n",
       "    <tr>\n",
       "      <th>1</th>\n",
       "      <td>21694</td>\n",
       "      <td>12775</td>\n",
       "      <td>1</td>\n",
       "      <td>1</td>\n",
       "      <td>1</td>\n",
       "    </tr>\n",
       "    <tr>\n",
       "      <th>2</th>\n",
       "      <td>21108</td>\n",
       "      <td>24932</td>\n",
       "      <td>2</td>\n",
       "      <td>2</td>\n",
       "      <td>1</td>\n",
       "    </tr>\n",
       "    <tr>\n",
       "      <th>3</th>\n",
       "      <td>20222</td>\n",
       "      <td>20220</td>\n",
       "      <td>1</td>\n",
       "      <td>1</td>\n",
       "      <td>2</td>\n",
       "    </tr>\n",
       "    <tr>\n",
       "      <th>4</th>\n",
       "      <td>23285</td>\n",
       "      <td>21741</td>\n",
       "      <td>2</td>\n",
       "      <td>2</td>\n",
       "      <td>2</td>\n",
       "    </tr>\n",
       "  </tbody>\n",
       "</table>\n",
       "</div>"
      ],
      "text/plain": [
       "   recipe_A_id  recipe_B_id  recipe_choice  information_choice  \\\n",
       "0        15604        15811              1                   1   \n",
       "1        21694        12775              1                   1   \n",
       "2        21108        24932              2                   2   \n",
       "3        20222        20220              1                   1   \n",
       "4        23285        21741              2                   2   \n",
       "\n",
       "   expected_answer  \n",
       "0                1  \n",
       "1                1  \n",
       "2                1  \n",
       "3                2  \n",
       "4                2  "
      ]
     },
     "execution_count": 15,
     "metadata": {},
     "output_type": "execute_result"
    }
   ],
   "source": [
    "# We read the results of the first study\n",
    "study1res = readResultsStudy()\n",
    "study1res.head()"
   ]
  },
  {
   "cell_type": "code",
   "execution_count": 16,
   "metadata": {},
   "outputs": [
    {
     "name": "stdout",
     "output_type": "stream",
     "text": [
      "Precision score in study 1 : 0.5322033898305085\n"
     ]
    }
   ],
   "source": [
    "# Number of correct answers\n",
    "ans1 = [a for a in study1res[\"recipe_choice\"].tolist()]\n",
    "exp1 = [e for e in study1res[\"expected_answer\"].tolist()]\n",
    "print(\"Precision score in study 1 :\", sum([1 for i, j in zip(ans1, exp1) if i == j]) / len(ans1))"
   ]
  },
  {
   "cell_type": "code",
   "execution_count": 17,
   "metadata": {},
   "outputs": [
    {
     "data": {
      "image/png": "[encoded data removed]",
      "text/plain": [
       "<Figure size 432x288 with 1 Axes>"
      ]
     },
     "metadata": {},
     "output_type": "display_data"
    }
   ],
   "source": [
    "# We check the repartition of information choice\n",
    "# We get the values\n",
    "val1, counts1 = np.unique(study1res[\"information_choice\"].tolist(), return_counts=True)\n",
    "val1 = [convertIndexChoice[i] for i in val1]\n",
    "\n",
    "# We plot the values\n",
    "plt.title(\"Information choice repartition in the first study\")\n",
    "plt.pie(counts1, labels=val1)\n",
    "plt.legend(bbox_to_anchor=(1.05, 1.0), loc='upper left')\n",
    "plt.savefig('bin/s1plot/information_repartition_study1.png', bbox_inches='tight')\n",
    "plt.show()"
   ]
  },
  {
   "cell_type": "code",
   "execution_count": 18,
   "metadata": {},
   "outputs": [
    {
     "name": "stdout",
     "output_type": "stream",
     "text": [
      "452\n"
     ]
    },
    {
     "data": {
      "image/png": "[encoded data removed]",
      "text/plain": [
       "<Figure size 432x288 with 1 Axes>"
      ]
     },
     "metadata": {},
     "output_type": "display_data"
    }
   ],
   "source": [
    "# Stacked bar plot to analyse the numbers of correct and false answers per information choice\n",
    "anspic1 = study1res[study1res[\"information_choice\"] == 1][[\"recipe_choice\", \"expected_answer\"]]\n",
    "correctpic1 = sum([1 for i, j in zip(anspic1[\"recipe_choice\"].tolist(), anspic1[\"expected_answer\"].tolist()) if i == j])\n",
    "falsepic1 = sum([1 for i, j in zip(anspic1[\"recipe_choice\"].tolist(), anspic1[\"expected_answer\"].tolist()) if i != j])\n",
    "\n",
    "ansname1 = study1res[study1res[\"information_choice\"] == 2][[\"recipe_choice\", \"expected_answer\"]]\n",
    "correctname1 = sum([1 for i, j in zip(ansname1[\"recipe_choice\"].tolist(), ansname1[\"expected_answer\"].tolist()) if i == j])\n",
    "falsename1 = sum([1 for i, j in zip(ansname1[\"recipe_choice\"].tolist(), ansname1[\"expected_answer\"].tolist()) if i != j])\n",
    "\n",
    "# We create lists to group the data for the plot\n",
    "ga1 = [correctpic1, correctname1]\n",
    "ba1 = [falsepic1, falsename1]\n",
    "\n",
    "print(len(study1res[study1res[\"information_choice\"] == 1]))\n",
    "\n",
    "# We plot the values\n",
    "fig, ax = plt.subplots()\n",
    "plt.title(\"Number of correct and wrong answers based on the information choice\")\n",
    "ax.bar(val1, ga1, label=\"Correct answers\")\n",
    "ax.bar(val1, ba1, label=\"Wrong answers\", bottom=ga1)\n",
    "plt.legend(bbox_to_anchor=(1.05, 1.0), loc='upper left')\n",
    "plt.savefig(\"bin/s1plot/answer_numbers_study1.png\", bbox_inches='tight')\n",
    "plt.show()"
   ]
  },
  {
   "cell_type": "markdown",
   "metadata": {},
   "source": [
    "### Second study analysis"
   ]
  },
  {
   "cell_type": "code",
   "execution_count": 19,
   "metadata": {},
   "outputs": [
    {
     "data": {
      "text/html": [
       "<div>\n",
       "<style scoped>\n",
       "    .dataframe tbody tr th:only-of-type {\n",
       "        vertical-align: middle;\n",
       "    }\n",
       "\n",
       "    .dataframe tbody tr th {\n",
       "        vertical-align: top;\n",
       "    }\n",
       "\n",
       "    .dataframe thead th {\n",
       "        text-align: right;\n",
       "    }\n",
       "</style>\n",
       "<table border=\"1\" class=\"dataframe\">\n",
       "  <thead>\n",
       "    <tr style=\"text-align: right;\">\n",
       "      <th></th>\n",
       "      <th>recipe_A_id</th>\n",
       "      <th>recipe_B_id</th>\n",
       "      <th>recipe_choice</th>\n",
       "      <th>information_choice</th>\n",
       "      <th>expected_answer</th>\n",
       "    </tr>\n",
       "  </thead>\n",
       "  <tbody>\n",
       "    <tr>\n",
       "      <th>0</th>\n",
       "      <td>17195</td>\n",
       "      <td>15671</td>\n",
       "      <td>1</td>\n",
       "      <td>2</td>\n",
       "      <td>1</td>\n",
       "    </tr>\n",
       "    <tr>\n",
       "      <th>1</th>\n",
       "      <td>11726</td>\n",
       "      <td>11889</td>\n",
       "      <td>1</td>\n",
       "      <td>2</td>\n",
       "      <td>1</td>\n",
       "    </tr>\n",
       "    <tr>\n",
       "      <th>2</th>\n",
       "      <td>21487</td>\n",
       "      <td>21304</td>\n",
       "      <td>2</td>\n",
       "      <td>3</td>\n",
       "      <td>1</td>\n",
       "    </tr>\n",
       "    <tr>\n",
       "      <th>3</th>\n",
       "      <td>10270</td>\n",
       "      <td>10095</td>\n",
       "      <td>1</td>\n",
       "      <td>3</td>\n",
       "      <td>2</td>\n",
       "    </tr>\n",
       "    <tr>\n",
       "      <th>4</th>\n",
       "      <td>12532</td>\n",
       "      <td>13802</td>\n",
       "      <td>2</td>\n",
       "      <td>3</td>\n",
       "      <td>2</td>\n",
       "    </tr>\n",
       "  </tbody>\n",
       "</table>\n",
       "</div>"
      ],
      "text/plain": [
       "   recipe_A_id  recipe_B_id  recipe_choice  information_choice  \\\n",
       "0        17195        15671              1                   2   \n",
       "1        11726        11889              1                   2   \n",
       "2        21487        21304              2                   3   \n",
       "3        10270        10095              1                   3   \n",
       "4        12532        13802              2                   3   \n",
       "\n",
       "   expected_answer  \n",
       "0                1  \n",
       "1                1  \n",
       "2                1  \n",
       "3                2  \n",
       "4                2  "
      ]
     },
     "execution_count": 19,
     "metadata": {},
     "output_type": "execute_result"
    }
   ],
   "source": [
    "# We read the results of the second study\n",
    "study2res = readResultsStudy(True)\n",
    "study2res.head()"
   ]
  },
  {
   "cell_type": "code",
   "execution_count": 20,
   "metadata": {},
   "outputs": [
    {
     "name": "stdout",
     "output_type": "stream",
     "text": [
      "Precision score in study 2 : 0.6097560975609756\n"
     ]
    }
   ],
   "source": [
    "# Number of correct answers\n",
    "ans2 = [a for a in study2res[\"recipe_choice\"].tolist()]\n",
    "exp2 = [e for e in study2res[\"expected_answer\"].tolist()]\n",
    "print(\"Precision score in study 2 :\", sum([1 for i, j in zip(ans2, exp2) if i == j]) / len(ans2))"
   ]
  },
  {
   "cell_type": "code",
   "execution_count": 21,
   "metadata": {},
   "outputs": [
    {
     "data": {
      "image/png": "[encoded data removed]",
      "text/plain": [
       "<Figure size 432x288 with 1 Axes>"
      ]
     },
     "metadata": {},
     "output_type": "display_data"
    }
   ],
   "source": [
    "# We check the repartition of good answers\n",
    "# We get the values\n",
    "val2, counts2 = np.unique(study2res[\"information_choice\"].tolist(), return_counts=True)\n",
    "val2 = [convertIndexChoice[i] for i in val2]\n",
    "\n",
    "# We plot the values\n",
    "plt.title(\"Information choice repartition in the first study\")\n",
    "plt.pie(counts2, labels=val2)\n",
    "plt.legend(bbox_to_anchor=(1.05, 1.0), loc='upper left')\n",
    "plt.savefig('bin/s2plot/information_repartition_study2.png', bbox_inches='tight')\n",
    "plt.show()"
   ]
  },
  {
   "cell_type": "code",
   "execution_count": 22,
   "metadata": {},
   "outputs": [
    {
     "data": {
      "image/png": "[encoded data removed]",
      "text/plain": [
       "<Figure size 432x288 with 1 Axes>"
      ]
     },
     "metadata": {},
     "output_type": "display_data"
    }
   ],
   "source": [
    "# Stacked bar plot to analyse the numbers of correct and false answers per information choice\n",
    "anspic2 = study2res[study2res[\"information_choice\"] == 1][[\"recipe_choice\", \"expected_answer\"]]\n",
    "correctpic2 = sum([1 for i, j in zip(anspic2[\"recipe_choice\"].tolist(), anspic2[\"expected_answer\"].tolist()) if i == j])\n",
    "falsepic2 = sum([1 for i, j in zip(anspic2[\"recipe_choice\"].tolist(), anspic2[\"expected_answer\"].tolist()) if i != j])\n",
    "\n",
    "ansname2 = study2res[study2res[\"information_choice\"] == 2][[\"recipe_choice\", \"expected_answer\"]]\n",
    "correctname2 = sum([1 for i, j in zip(ansname2[\"recipe_choice\"].tolist(), ansname2[\"expected_answer\"].tolist()) if i == j])\n",
    "falsename2 = sum([1 for i, j in zip(ansname2[\"recipe_choice\"].tolist(), ansname2[\"expected_answer\"].tolist()) if i != j])\n",
    "\n",
    "ansing2 = study2res[study2res[\"information_choice\"] == 3][[\"recipe_choice\", \"expected_answer\"]]\n",
    "correcting2 = sum([1 for i, j in zip(ansing2[\"recipe_choice\"].tolist(), ansing2[\"expected_answer\"].tolist()) if i == j])\n",
    "falseing2 = sum([1 for i, j in zip(ansing2[\"recipe_choice\"].tolist(), ansing2[\"expected_answer\"].tolist()) if i != j])\n",
    "\n",
    "# We create lists to group the data for the plot\n",
    "ga2 = [correctpic2, correctname2, correcting2]\n",
    "ba2 = [falsepic2, falsename2, falseing2]\n",
    "\n",
    "# We plot the values\n",
    "fig, ax = plt.subplots()\n",
    "plt.title(\"Number of correct and wrong answers based on the information choice\")\n",
    "ax.bar(val2, ga2, label=\"Correct answers\")\n",
    "ax.bar(val2, ba2, label=\"Wrong answers\", bottom=ga2)\n",
    "plt.legend(bbox_to_anchor=(1.05, 1.0), loc='upper left')\n",
    "plt.savefig(\"bin/s2plot/answer_numbers_study2.png\", bbox_inches='tight')\n",
    "plt.show()"
   ]
  },
  {
   "cell_type": "markdown",
   "metadata": {},
   "source": [
    "## Machine Learning"
   ]
  },
  {
   "cell_type": "code",
   "execution_count": 23,
   "metadata": {},
   "outputs": [],
   "source": [
    "# Test feature extraction\n",
    "dX, dY = extractFeaturesTests(df, \"picture\")"
   ]
  },
  {
   "cell_type": "markdown",
   "metadata": {},
   "source": [
    "### **Naive Bayes**"
   ]
  },
  {
   "cell_type": "code",
   "execution_count": 46,
   "metadata": {},
   "outputs": [
    {
     "name": "stdout",
     "output_type": "stream",
     "text": [
      "______________________________________________________________________________________\n",
      "\n",
      "Naive Bayes - Feature picture\n",
      "0.52 accuracy with a standard deviation of 0.02\n",
      "______________________________________________________________________________________\n",
      "\n",
      "Naive Bayes - Feature nutrition\n",
      "0.82 accuracy with a standard deviation of 0.04\n",
      "______________________________________________________________________________________\n",
      "\n"
     ]
    }
   ],
   "source": [
    "# We introduce the NB classifier. The import is done in the utils file.\n",
    "\n",
    "print(\"______________________________________________________________________________________\\n\")\n",
    "for feat in [\"picture\", \"nutrition\"] :\n",
    "    dX, dY = extractFeaturesTests(df, feat)\n",
    "    model = GaussianNB()\n",
    "    scores = cross_val_score(model, dX, dY, cv=10, n_jobs=1, scoring='f1_macro')\n",
    "    print(\"Naive Bayes - Feature %s\\n%0.2f accuracy with a standard deviation of %0.2f\" % (feat, scores.mean(), scores.std()))\n",
    "    print(\"______________________________________________________________________________________\\n\")\n",
    "        \n"
   ]
  },
  {
   "cell_type": "markdown",
   "metadata": {},
   "source": [
    "### **Random Forest**"
   ]
  },
  {
   "cell_type": "code",
   "execution_count": 47,
   "metadata": {},
   "outputs": [
    {
     "name": "stdout",
     "output_type": "stream",
     "text": [
      "______________________________________________________________________________________\n",
      "\n",
      "Random Forest (max depth = 1) - Feature picture\n",
      "0.45 accuracy with a standard deviation of 0.04\n",
      "______________________________________________________________________________________\n",
      "\n",
      "Random Forest (max depth = 5) - Feature picture\n",
      "0.82 accuracy with a standard deviation of 0.05\n",
      "______________________________________________________________________________________\n",
      "\n",
      "Random Forest (max depth = 10) - Feature picture\n",
      "1.00 accuracy with a standard deviation of 0.01\n",
      "______________________________________________________________________________________\n",
      "\n",
      "Random Forest (max depth = 1) - Feature nutrition\n",
      "0.77 accuracy with a standard deviation of 0.03\n",
      "______________________________________________________________________________________\n",
      "\n",
      "Random Forest (max depth = 5) - Feature nutrition\n",
      "0.98 accuracy with a standard deviation of 0.02\n",
      "______________________________________________________________________________________\n",
      "\n",
      "Random Forest (max depth = 10) - Feature nutrition\n",
      "1.00 accuracy with a standard deviation of 0.00\n",
      "______________________________________________________________________________________\n",
      "\n"
     ]
    }
   ],
   "source": [
    "print(\"______________________________________________________________________________________\\n\")\n",
    "for feat in [\"picture\", \"nutrition\"] :\n",
    "    for md in [1, 5, 10] :\n",
    "        dX, dY = extractFeaturesTests(df, feat)\n",
    "        model = RandomForestClassifier(max_depth=md)\n",
    "        scores = cross_val_score(model, dX, dY, cv=10, n_jobs=1, scoring='f1_macro')\n",
    "        print(\"Random Forest (max depth = %d) - Feature %s\\n%0.2f accuracy with a standard deviation of %0.2f\" % (md, feat, scores.mean(), scores.std()))\n",
    "        print(\"______________________________________________________________________________________\\n\")"
   ]
  },
  {
   "cell_type": "markdown",
   "metadata": {},
   "source": [
    "### **Logistic**"
   ]
  },
  {
   "cell_type": "code",
   "execution_count": 51,
   "metadata": {},
   "outputs": [
    {
     "name": "stdout",
     "output_type": "stream",
     "text": [
      "______________________________________________________________________________________\n",
      "\n",
      "Logistic Regression - Feature picture\n",
      "0.54 accuracy with a standard deviation of 0.05\n",
      "______________________________________________________________________________________\n",
      "\n",
      "Logistic Regression - Feature nutrition\n",
      "0.99 accuracy with a standard deviation of 0.01\n",
      "______________________________________________________________________________________\n",
      "\n"
     ]
    }
   ],
   "source": [
    "# We introduce the Logistic Regression classifier. The import is done in the utils file.\n",
    "\n",
    "print(\"______________________________________________________________________________________\\n\")\n",
    "for feat in [\"picture\", \"nutrition\"] :\n",
    "    dX, dY = extractFeaturesTests(df, feat)\n",
    "    model = LogisticRegression(random_state=0)\n",
    "    scores = cross_val_score(model, dX, dY, cv=10, n_jobs=1, scoring='f1_macro')\n",
    "    print(\"Logistic Regression - Feature %s\\n%0.2f accuracy with a standard deviation of %0.2f\" % (feat, scores.mean(), scores.std()))\n",
    "    print(\"______________________________________________________________________________________\\n\")"
   ]
  },
  {
   "cell_type": "markdown",
   "metadata": {},
   "source": [
    "## More stuff"
   ]
  },
  {
   "cell_type": "code",
   "execution_count": 27,
   "metadata": {},
   "outputs": [
    {
     "data": {
      "text/html": [
       "<div>\n",
       "<style scoped>\n",
       "    .dataframe tbody tr th:only-of-type {\n",
       "        vertical-align: middle;\n",
       "    }\n",
       "\n",
       "    .dataframe tbody tr th {\n",
       "        vertical-align: top;\n",
       "    }\n",
       "\n",
       "    .dataframe thead th {\n",
       "        text-align: right;\n",
       "    }\n",
       "</style>\n",
       "<table border=\"1\" class=\"dataframe\">\n",
       "  <thead>\n",
       "    <tr style=\"text-align: right;\">\n",
       "      <th></th>\n",
       "      <th>id</th>\n",
       "      <th>servings</th>\n",
       "      <th>calories</th>\n",
       "      <th>reviews</th>\n",
       "      <th>rating</th>\n",
       "      <th>carbohydrates</th>\n",
       "      <th>dietary fiber</th>\n",
       "      <th>sugars</th>\n",
       "      <th>fat</th>\n",
       "      <th>saturated fat</th>\n",
       "      <th>...</th>\n",
       "      <th>magnesium</th>\n",
       "      <th>potassium</th>\n",
       "      <th>sodium</th>\n",
       "      <th>sharpness_picture</th>\n",
       "      <th>brightness_picture</th>\n",
       "      <th>entropy_picture</th>\n",
       "      <th>colorfulness_picture</th>\n",
       "      <th>contrast_picture</th>\n",
       "      <th>FSA_score</th>\n",
       "      <th>number_ingredients</th>\n",
       "    </tr>\n",
       "  </thead>\n",
       "  <tbody>\n",
       "    <tr>\n",
       "      <th>0</th>\n",
       "      <td>10000</td>\n",
       "      <td>12</td>\n",
       "      <td>599.7</td>\n",
       "      <td>38</td>\n",
       "      <td>3.8</td>\n",
       "      <td>86.6</td>\n",
       "      <td>2.6</td>\n",
       "      <td>54.1</td>\n",
       "      <td>26.9</td>\n",
       "      <td>11.6</td>\n",
       "      <td>...</td>\n",
       "      <td>0.0392</td>\n",
       "      <td>0.1812</td>\n",
       "      <td>0.4130</td>\n",
       "      <td>9.374181</td>\n",
       "      <td>122.297989</td>\n",
       "      <td>1.274089</td>\n",
       "      <td>20.113405</td>\n",
       "      <td>1.000000</td>\n",
       "      <td>11</td>\n",
       "      <td>15</td>\n",
       "    </tr>\n",
       "    <tr>\n",
       "      <th>1</th>\n",
       "      <td>10001</td>\n",
       "      <td>12</td>\n",
       "      <td>357.6</td>\n",
       "      <td>13</td>\n",
       "      <td>4.3</td>\n",
       "      <td>35.5</td>\n",
       "      <td>2.0</td>\n",
       "      <td>17.2</td>\n",
       "      <td>22.6</td>\n",
       "      <td>10.8</td>\n",
       "      <td>...</td>\n",
       "      <td>0.0296</td>\n",
       "      <td>0.1525</td>\n",
       "      <td>0.1965</td>\n",
       "      <td>9.073389</td>\n",
       "      <td>108.192978</td>\n",
       "      <td>1.654356</td>\n",
       "      <td>62.595903</td>\n",
       "      <td>14.875000</td>\n",
       "      <td>9</td>\n",
       "      <td>9</td>\n",
       "    </tr>\n",
       "    <tr>\n",
       "      <th>2</th>\n",
       "      <td>10002</td>\n",
       "      <td>30</td>\n",
       "      <td>200.0</td>\n",
       "      <td>6</td>\n",
       "      <td>3.9</td>\n",
       "      <td>21.9</td>\n",
       "      <td>0.7</td>\n",
       "      <td>14.6</td>\n",
       "      <td>11.6</td>\n",
       "      <td>2.7</td>\n",
       "      <td>...</td>\n",
       "      <td>0.0162</td>\n",
       "      <td>0.0799</td>\n",
       "      <td>0.1273</td>\n",
       "      <td>4.301790</td>\n",
       "      <td>80.119311</td>\n",
       "      <td>1.384078</td>\n",
       "      <td>50.054033</td>\n",
       "      <td>0.975460</td>\n",
       "      <td>8</td>\n",
       "      <td>9</td>\n",
       "    </tr>\n",
       "    <tr>\n",
       "      <th>3</th>\n",
       "      <td>10003</td>\n",
       "      <td>24</td>\n",
       "      <td>116.3</td>\n",
       "      <td>154</td>\n",
       "      <td>4.0</td>\n",
       "      <td>10.9</td>\n",
       "      <td>0.2</td>\n",
       "      <td>2.5</td>\n",
       "      <td>7.8</td>\n",
       "      <td>4.9</td>\n",
       "      <td>...</td>\n",
       "      <td>0.0020</td>\n",
       "      <td>0.0108</td>\n",
       "      <td>0.0549</td>\n",
       "      <td>8.095743</td>\n",
       "      <td>138.466889</td>\n",
       "      <td>1.358489</td>\n",
       "      <td>70.363709</td>\n",
       "      <td>49.799999</td>\n",
       "      <td>6</td>\n",
       "      <td>5</td>\n",
       "    </tr>\n",
       "    <tr>\n",
       "      <th>4</th>\n",
       "      <td>10004</td>\n",
       "      <td>8</td>\n",
       "      <td>108.1</td>\n",
       "      <td>19</td>\n",
       "      <td>4.7</td>\n",
       "      <td>26.0</td>\n",
       "      <td>0.0</td>\n",
       "      <td>25.2</td>\n",
       "      <td>0.0</td>\n",
       "      <td>0.0</td>\n",
       "      <td>...</td>\n",
       "      <td>0.0015</td>\n",
       "      <td>0.0213</td>\n",
       "      <td>0.0213</td>\n",
       "      <td>7.910772</td>\n",
       "      <td>131.493567</td>\n",
       "      <td>1.488211</td>\n",
       "      <td>33.684277</td>\n",
       "      <td>1.000000</td>\n",
       "      <td>6</td>\n",
       "      <td>6</td>\n",
       "    </tr>\n",
       "  </tbody>\n",
       "</table>\n",
       "<p>5 rows × 23 columns</p>\n",
       "</div>"
      ],
      "text/plain": [
       "      id  servings  calories  reviews  rating  carbohydrates  dietary fiber  \\\n",
       "0  10000        12     599.7       38     3.8           86.6            2.6   \n",
       "1  10001        12     357.6       13     4.3           35.5            2.0   \n",
       "2  10002        30     200.0        6     3.9           21.9            0.7   \n",
       "3  10003        24     116.3      154     4.0           10.9            0.2   \n",
       "4  10004         8     108.1       19     4.7           26.0            0.0   \n",
       "\n",
       "   sugars   fat  saturated fat  ...  magnesium  potassium  sodium  \\\n",
       "0    54.1  26.9           11.6  ...     0.0392     0.1812  0.4130   \n",
       "1    17.2  22.6           10.8  ...     0.0296     0.1525  0.1965   \n",
       "2    14.6  11.6            2.7  ...     0.0162     0.0799  0.1273   \n",
       "3     2.5   7.8            4.9  ...     0.0020     0.0108  0.0549   \n",
       "4    25.2   0.0            0.0  ...     0.0015     0.0213  0.0213   \n",
       "\n",
       "   sharpness_picture  brightness_picture  entropy_picture  \\\n",
       "0           9.374181          122.297989         1.274089   \n",
       "1           9.073389          108.192978         1.654356   \n",
       "2           4.301790           80.119311         1.384078   \n",
       "3           8.095743          138.466889         1.358489   \n",
       "4           7.910772          131.493567         1.488211   \n",
       "\n",
       "   colorfulness_picture  contrast_picture  FSA_score  number_ingredients  \n",
       "0             20.113405          1.000000         11                  15  \n",
       "1             62.595903         14.875000          9                   9  \n",
       "2             50.054033          0.975460          8                   9  \n",
       "3             70.363709         49.799999          6                   5  \n",
       "4             33.684277          1.000000          6                   6  \n",
       "\n",
       "[5 rows x 23 columns]"
      ]
     },
     "execution_count": 27,
     "metadata": {},
     "output_type": "execute_result"
    }
   ],
   "source": [
    "# Exclude string columns\n",
    "dfNoStr = df.select_dtypes(exclude=['object'])\n",
    "dfNoStr.head(5)"
   ]
  }
 ],
 "metadata": {
  "interpreter": {
   "hash": "8acba5004bc40206a644731bcee493a2a8691de12db2808ba6c10f693827710a"
  },
  "kernelspec": {
   "display_name": "Python 3.9.7 64-bit",
   "language": "python",
   "name": "python3"
  },
  "language_info": {
   "codemirror_mode": {
    "name": "ipython",
    "version": 3
   },
   "file_extension": ".py",
   "mimetype": "text/x-python",
   "name": "python",
   "nbconvert_exporter": "python",
   "pygments_lexer": "ipython3",
   "version": "3.9.7"
  },
  "orig_nbformat": 4
 },
 "nbformat": 4,
 "nbformat_minor": 2
}
