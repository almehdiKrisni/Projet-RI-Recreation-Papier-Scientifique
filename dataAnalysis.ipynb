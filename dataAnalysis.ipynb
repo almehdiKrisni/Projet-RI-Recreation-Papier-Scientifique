{
 "cells": [
  {
   "cell_type": "markdown",
   "metadata": {},
   "source": [
    "## **Analyse des données récupérées**\n",
    "\n",
    "#### Membres du binôme :\n",
    "- KRISNI Almehdi\n",
    "- ARICHANDRA Santhos"
   ]
  },
  {
   "cell_type": "code",
   "execution_count": 68,
   "metadata": {},
   "outputs": [
    {
     "name": "stdout",
     "output_type": "stream",
     "text": [
      "The autoreload extension is already loaded. To reload it, use:\n",
      "  %reload_ext autoreload\n"
     ]
    }
   ],
   "source": [
    "# Imports\n",
    "from utils import *\n",
    "\n",
    "# Rechargement automatique des fichiers importés (vu dans l'UE de Data Science en L3)\n",
    "%load_ext autoreload\n",
    "%autoreload 2\n",
    "\n",
    "# On désactive les affichages\n",
    "import warnings\n",
    "warnings.filterwarnings('ignore')"
   ]
  },
  {
   "cell_type": "code",
   "execution_count": 74,
   "metadata": {},
   "outputs": [
    {
     "name": "stdout",
     "output_type": "stream",
     "text": [
      "[Errno 2] No such file or directory: 'data/recipedata_18400_18499.csv'\n",
      "\"None of [Index(['name', 'id', 'description', 'picture', 'servings', 'calories',\\n       'reviews', 'rating', 'carbohydrates', 'dietary fiber', 'sugars', 'fat',\\n       'saturated fat', 'cholesterol', 'calcium', 'iron', 'magnesium',\\n       'potassium', 'sodium', 'ingredients'],\\n      dtype='object')] are in the [columns]\"\n",
      "[Errno 2] No such file or directory: 'data/recipedata_19400_19499.csv'\n",
      "<class 'pandas.core.frame.DataFrame'>\n",
      "Int64Index: 9158 entries, 0 to 9159\n",
      "Data columns (total 20 columns):\n",
      " #   Column         Non-Null Count  Dtype  \n",
      "---  ------         --------------  -----  \n",
      " 0   name           9158 non-null   object \n",
      " 1   id             9158 non-null   int64  \n",
      " 2   description    9158 non-null   object \n",
      " 3   picture        9158 non-null   object \n",
      " 4   servings       9158 non-null   int64  \n",
      " 5   calories       9158 non-null   float64\n",
      " 6   reviews        9158 non-null   int64  \n",
      " 7   rating         9158 non-null   float64\n",
      " 8   carbohydrates  9158 non-null   float64\n",
      " 9   dietary fiber  9158 non-null   float64\n",
      " 10  sugars         9158 non-null   float64\n",
      " 11  fat            9158 non-null   float64\n",
      " 12  saturated fat  9158 non-null   float64\n",
      " 13  cholesterol    9158 non-null   float64\n",
      " 14  calcium        9158 non-null   float64\n",
      " 15  iron           9158 non-null   float64\n",
      " 16  magnesium      9158 non-null   float64\n",
      " 17  potassium      9158 non-null   float64\n",
      " 18  sodium         9158 non-null   float64\n",
      " 19  ingredients    9158 non-null   object \n",
      "dtypes: float64(13), int64(3), object(4)\n",
      "memory usage: 1.5+ MB\n"
     ]
    }
   ],
   "source": [
    "# On récupère le dataframe pandas contenant toutes les recettes\n",
    "df = pdCreator(10000, 100, 20000)\n",
    "\n",
    "# On affiche les informations du dataFrame\n",
    "df.info()"
   ]
  },
  {
   "cell_type": "code",
   "execution_count": 70,
   "metadata": {},
   "outputs": [
    {
     "name": "stdout",
     "output_type": "stream",
     "text": [
      "<class 'pandas.core.frame.DataFrame'>\n",
      "RangeIndex: 100 entries, 0 to 99\n",
      "Data columns (total 21 columns):\n",
      " #   Column         Non-Null Count  Dtype  \n",
      "---  ------         --------------  -----  \n",
      " 0   name           100 non-null    object \n",
      " 1   id             100 non-null    int64  \n",
      " 2   description    100 non-null    object \n",
      " 3   picture        100 non-null    object \n",
      " 4   servings       100 non-null    int64  \n",
      " 5   calories       100 non-null    float64\n",
      " 6   reviews        100 non-null    int64  \n",
      " 7   rating         100 non-null    float64\n",
      " 8   carbohydrates  100 non-null    float64\n",
      " 9   dietary fiber  100 non-null    float64\n",
      " 10  sugars         100 non-null    float64\n",
      " 11  fat            100 non-null    float64\n",
      " 12  saturated fat  100 non-null    float64\n",
      " 13  cholesterol    100 non-null    float64\n",
      " 14  calcium        100 non-null    float64\n",
      " 15  iron           100 non-null    float64\n",
      " 16  magnesium      100 non-null    float64\n",
      " 17  potassium      100 non-null    float64\n",
      " 18  sodium         100 non-null    float64\n",
      " 19  ingredients    100 non-null    object \n",
      " 20  FSA_score      100 non-null    int64  \n",
      "dtypes: float64(13), int64(4), object(4)\n",
      "memory usage: 16.5+ KB\n"
     ]
    }
   ],
   "source": [
    "computeFSAscore(df)\n",
    "df.info()"
   ]
  },
  {
   "cell_type": "code",
   "execution_count": 73,
   "metadata": {},
   "outputs": [
    {
     "data": {
      "image/png": "[encoded data removed]",
      "text/plain": [
       "<Figure size 432x288 with 1 Axes>"
      ]
     },
     "metadata": {
      "needs_background": "light"
     },
     "output_type": "display_data"
    }
   ],
   "source": [
    "showBar(df[\"FSA_score\"].tolist())"
   ]
  },
  {
   "cell_type": "code",
   "execution_count": null,
   "metadata": {},
   "outputs": [
    {
     "data": {
      "text/html": [
       "<div>\n",
       "<style scoped>\n",
       "    .dataframe tbody tr th:only-of-type {\n",
       "        vertical-align: middle;\n",
       "    }\n",
       "\n",
       "    .dataframe tbody tr th {\n",
       "        vertical-align: top;\n",
       "    }\n",
       "\n",
       "    .dataframe thead th {\n",
       "        text-align: right;\n",
       "    }\n",
       "</style>\n",
       "<table border=\"1\" class=\"dataframe\">\n",
       "  <thead>\n",
       "    <tr style=\"text-align: right;\">\n",
       "      <th></th>\n",
       "      <th>id</th>\n",
       "      <th>servings</th>\n",
       "      <th>calories</th>\n",
       "      <th>reviews</th>\n",
       "      <th>rating</th>\n",
       "      <th>carbohydrates</th>\n",
       "      <th>dietary fiber</th>\n",
       "      <th>sugars</th>\n",
       "      <th>fat</th>\n",
       "      <th>saturated fat</th>\n",
       "      <th>cholesterol</th>\n",
       "      <th>calcium</th>\n",
       "      <th>iron</th>\n",
       "      <th>magnesium</th>\n",
       "      <th>potassium</th>\n",
       "      <th>sodium</th>\n",
       "    </tr>\n",
       "  </thead>\n",
       "  <tbody>\n",
       "    <tr>\n",
       "      <th>0</th>\n",
       "      <td>10000</td>\n",
       "      <td>12</td>\n",
       "      <td>599.7</td>\n",
       "      <td>38</td>\n",
       "      <td>3.8</td>\n",
       "      <td>86.6</td>\n",
       "      <td>2.6</td>\n",
       "      <td>54.1</td>\n",
       "      <td>26.9</td>\n",
       "      <td>11.6</td>\n",
       "      <td>0.0640</td>\n",
       "      <td>0.1253</td>\n",
       "      <td>0.0025</td>\n",
       "      <td>0.0392</td>\n",
       "      <td>0.1812</td>\n",
       "      <td>0.4130</td>\n",
       "    </tr>\n",
       "    <tr>\n",
       "      <th>1</th>\n",
       "      <td>10001</td>\n",
       "      <td>12</td>\n",
       "      <td>357.6</td>\n",
       "      <td>13</td>\n",
       "      <td>4.3</td>\n",
       "      <td>35.5</td>\n",
       "      <td>2.0</td>\n",
       "      <td>17.2</td>\n",
       "      <td>22.6</td>\n",
       "      <td>10.8</td>\n",
       "      <td>0.1027</td>\n",
       "      <td>0.0968</td>\n",
       "      <td>0.0021</td>\n",
       "      <td>0.0296</td>\n",
       "      <td>0.1525</td>\n",
       "      <td>0.1965</td>\n",
       "    </tr>\n",
       "    <tr>\n",
       "      <th>2</th>\n",
       "      <td>10002</td>\n",
       "      <td>30</td>\n",
       "      <td>200.0</td>\n",
       "      <td>6</td>\n",
       "      <td>3.9</td>\n",
       "      <td>21.9</td>\n",
       "      <td>0.7</td>\n",
       "      <td>14.6</td>\n",
       "      <td>11.6</td>\n",
       "      <td>2.7</td>\n",
       "      <td>0.0124</td>\n",
       "      <td>0.0135</td>\n",
       "      <td>0.0007</td>\n",
       "      <td>0.0162</td>\n",
       "      <td>0.0799</td>\n",
       "      <td>0.1273</td>\n",
       "    </tr>\n",
       "    <tr>\n",
       "      <th>3</th>\n",
       "      <td>10003</td>\n",
       "      <td>24</td>\n",
       "      <td>116.3</td>\n",
       "      <td>154</td>\n",
       "      <td>4.0</td>\n",
       "      <td>10.9</td>\n",
       "      <td>0.2</td>\n",
       "      <td>2.5</td>\n",
       "      <td>7.8</td>\n",
       "      <td>4.9</td>\n",
       "      <td>0.0203</td>\n",
       "      <td>0.0035</td>\n",
       "      <td>0.0004</td>\n",
       "      <td>0.0020</td>\n",
       "      <td>0.0108</td>\n",
       "      <td>0.0549</td>\n",
       "    </tr>\n",
       "    <tr>\n",
       "      <th>4</th>\n",
       "      <td>10004</td>\n",
       "      <td>8</td>\n",
       "      <td>108.1</td>\n",
       "      <td>19</td>\n",
       "      <td>4.7</td>\n",
       "      <td>26.0</td>\n",
       "      <td>0.0</td>\n",
       "      <td>25.2</td>\n",
       "      <td>0.0</td>\n",
       "      <td>0.0</td>\n",
       "      <td>0.0000</td>\n",
       "      <td>0.0011</td>\n",
       "      <td>0.0000</td>\n",
       "      <td>0.0015</td>\n",
       "      <td>0.0213</td>\n",
       "      <td>0.0213</td>\n",
       "    </tr>\n",
       "  </tbody>\n",
       "</table>\n",
       "</div>"
      ],
      "text/plain": [
       "      id  servings  calories  reviews  rating  carbohydrates  dietary fiber  \\\n",
       "0  10000        12     599.7       38     3.8           86.6            2.6   \n",
       "1  10001        12     357.6       13     4.3           35.5            2.0   \n",
       "2  10002        30     200.0        6     3.9           21.9            0.7   \n",
       "3  10003        24     116.3      154     4.0           10.9            0.2   \n",
       "4  10004         8     108.1       19     4.7           26.0            0.0   \n",
       "\n",
       "   sugars   fat  saturated fat  cholesterol  calcium    iron  magnesium  \\\n",
       "0    54.1  26.9           11.6       0.0640   0.1253  0.0025     0.0392   \n",
       "1    17.2  22.6           10.8       0.1027   0.0968  0.0021     0.0296   \n",
       "2    14.6  11.6            2.7       0.0124   0.0135  0.0007     0.0162   \n",
       "3     2.5   7.8            4.9       0.0203   0.0035  0.0004     0.0020   \n",
       "4    25.2   0.0            0.0       0.0000   0.0011  0.0000     0.0015   \n",
       "\n",
       "   potassium  sodium  \n",
       "0     0.1812  0.4130  \n",
       "1     0.1525  0.1965  \n",
       "2     0.0799  0.1273  \n",
       "3     0.0108  0.0549  \n",
       "4     0.0213  0.0213  "
      ]
     },
     "execution_count": 21,
     "metadata": {},
     "output_type": "execute_result"
    }
   ],
   "source": [
    "# Exclude string columns\n",
    "dfNoStr = df.select_dtypes(exclude=['object'])\n",
    "dfNoStr.head(5)"
   ]
  },
  {
   "cell_type": "code",
   "execution_count": 39,
   "metadata": {},
   "outputs": [
    {
     "name": "stdout",
     "output_type": "stream",
     "text": [
      "6116\n",
      "10000\n"
     ]
    },
    {
     "name": "stderr",
     "output_type": "stream",
     "text": [
      "[autoreload of utils failed: Traceback (most recent call last):\n",
      "  File \"c:\\Users\\Almehdi\\AppData\\Local\\Programs\\Python\\Python39\\lib\\site-packages\\IPython\\extensions\\autoreload.py\", line 245, in check\n",
      "    superreload(m, reload, self.old_objects)\n",
      "  File \"c:\\Users\\Almehdi\\AppData\\Local\\Programs\\Python\\Python39\\lib\\site-packages\\IPython\\extensions\\autoreload.py\", line 394, in superreload\n",
      "    module = reload(module)\n",
      "  File \"c:\\Users\\Almehdi\\AppData\\Local\\Programs\\Python\\Python39\\lib\\imp.py\", line 314, in reload\n",
      "    return importlib.reload(module)\n",
      "  File \"c:\\Users\\Almehdi\\AppData\\Local\\Programs\\Python\\Python39\\lib\\importlib\\__init__.py\", line 169, in reload\n",
      "    _bootstrap._exec(spec, module)\n",
      "  File \"<frozen importlib._bootstrap>\", line 613, in _exec\n",
      "  File \"<frozen importlib._bootstrap_external>\", line 846, in exec_module\n",
      "  File \"<frozen importlib._bootstrap_external>\", line 983, in get_code\n",
      "  File \"<frozen importlib._bootstrap_external>\", line 913, in source_to_code\n",
      "  File \"<frozen importlib._bootstrap>\", line 228, in _call_with_frames_removed\n",
      "  File \"d:\\Almehdi\\Documents\\UPMC\\M1_DAC\\S2\\RITAL\\ProjetRI\\utils.py\", line 563\n",
      "    def computeFSAscore(df) :\n",
      "    ^\n",
      "IndentationError: expected an indented block\n",
      "]\n"
     ]
    }
   ],
   "source": [
    "# https://towardsdatascience.com/histograms-and-density-plots-in-python-f6bda88f5ac0\n",
    "\n",
    "# How we access a max value example\n",
    "print(df[\"fat\"].idxmax())\n",
    "print(df.iloc[0][\"id\"])"
   ]
  },
  {
   "cell_type": "code",
   "execution_count": null,
   "metadata": {},
   "outputs": [],
   "source": [
    "# tmp = allCosSim(dfNoStr, 10000)\n",
    "# recipeSimStats(tmp)"
   ]
  },
  {
   "cell_type": "code",
   "execution_count": null,
   "metadata": {},
   "outputs": [
    {
     "name": "stdout",
     "output_type": "stream",
     "text": [
      "Brigtness :\t 122.2979888888889\n",
      "Sharpness :\t 9.374180970660415\n",
      "Colorfulness :\t 20.11340526415148\n",
      "Contrast :\t 1.0\n"
     ]
    },
    {
     "data": {
      "text/plain": [
       "(122.2979888888889, 9.374180970660415, 20.11340526415148, 1.0)"
      ]
     },
     "execution_count": 24,
     "metadata": {},
     "output_type": "execute_result"
    }
   ],
   "source": [
    "picStats(10000)"
   ]
  },
  {
   "cell_type": "code",
   "execution_count": null,
   "metadata": {},
   "outputs": [
    {
     "name": "stdout",
     "output_type": "stream",
     "text": [
      "<class 'pandas.core.frame.DataFrame'>\n",
      "Int64Index: 7384 entries, 0 to 7877\n",
      "Data columns (total 16 columns):\n",
      " #   Column         Non-Null Count  Dtype  \n",
      "---  ------         --------------  -----  \n",
      " 0   id             7384 non-null   int64  \n",
      " 1   servings       7384 non-null   int64  \n",
      " 2   calories       7384 non-null   float64\n",
      " 3   reviews        7384 non-null   int64  \n",
      " 4   rating         7384 non-null   float64\n",
      " 5   carbohydrates  7384 non-null   float64\n",
      " 6   dietary fiber  7384 non-null   float64\n",
      " 7   sugars         7384 non-null   float64\n",
      " 8   fat            7384 non-null   float64\n",
      " 9   saturated fat  7384 non-null   float64\n",
      " 10  cholesterol    7384 non-null   float64\n",
      " 11  calcium        7384 non-null   float64\n",
      " 12  iron           7384 non-null   float64\n",
      " 13  magnesium      7384 non-null   float64\n",
      " 14  potassium      7384 non-null   float64\n",
      " 15  sodium         7384 non-null   float64\n",
      "dtypes: float64(13), int64(3)\n",
      "memory usage: 980.7 KB\n"
     ]
    }
   ],
   "source": [
    "# We generate a dataframe with only the recipes with pictures\n",
    "picDf = removeNoPictures(df)\n",
    "transfPicDf = picDf.select_dtypes(exclude=['object'])\n",
    "transfPicDf.info()"
   ]
  },
  {
   "cell_type": "code",
   "execution_count": null,
   "metadata": {},
   "outputs": [
    {
     "name": "stdout",
     "output_type": "stream",
     "text": [
      "<class 'pandas.core.frame.DataFrame'>\n",
      "Int64Index: 7384 entries, 0 to 7877\n",
      "Data columns (total 20 columns):\n",
      " #   Column         Non-Null Count  Dtype  \n",
      "---  ------         --------------  -----  \n",
      " 0   name           7384 non-null   object \n",
      " 1   id             7384 non-null   int64  \n",
      " 2   description    7384 non-null   object \n",
      " 3   picture        7384 non-null   object \n",
      " 4   servings       7384 non-null   int64  \n",
      " 5   calories       7384 non-null   float64\n",
      " 6   reviews        7384 non-null   int64  \n",
      " 7   rating         7384 non-null   float64\n",
      " 8   carbohydrates  7384 non-null   float64\n",
      " 9   dietary fiber  7384 non-null   float64\n",
      " 10  sugars         7384 non-null   float64\n",
      " 11  fat            7384 non-null   float64\n",
      " 12  saturated fat  7384 non-null   float64\n",
      " 13  cholesterol    7384 non-null   float64\n",
      " 14  calcium        7384 non-null   float64\n",
      " 15  iron           7384 non-null   float64\n",
      " 16  magnesium      7384 non-null   float64\n",
      " 17  potassium      7384 non-null   float64\n",
      " 18  sodium         7384 non-null   float64\n",
      " 19  ingredients    7384 non-null   object \n",
      "dtypes: float64(13), int64(3), object(4)\n",
      "memory usage: 1.2+ MB\n"
     ]
    }
   ],
   "source": [
    "picDf.info()"
   ]
  },
  {
   "cell_type": "code",
   "execution_count": null,
   "metadata": {},
   "outputs": [],
   "source": [
    "# generate_user_experience(transfPicDf, picDf, 3, 4, 0.9999)"
   ]
  }
 ],
 "metadata": {
  "interpreter": {
   "hash": "8acba5004bc40206a644731bcee493a2a8691de12db2808ba6c10f693827710a"
  },
  "kernelspec": {
   "display_name": "Python 3.9.7 64-bit",
   "language": "python",
   "name": "python3"
  },
  "language_info": {
   "codemirror_mode": {
    "name": "ipython",
    "version": 3
   },
   "file_extension": ".py",
   "mimetype": "text/x-python",
   "name": "python",
   "nbconvert_exporter": "python",
   "pygments_lexer": "ipython3",
   "version": "3.9.7"
  },
  "orig_nbformat": 4
 },
 "nbformat": 4,
 "nbformat_minor": 2
}
