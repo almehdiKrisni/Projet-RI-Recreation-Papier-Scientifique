{
 "cells": [
  {
   "cell_type": "markdown",
   "metadata": {},
   "source": [
    "## **Analyse des données récupérées**\n",
    "\n",
    "#### Membres du binôme :\n",
    "- KRISNI Almehdi\n",
    "- ARICHANDRA Santhos"
   ]
  },
  {
   "cell_type": "code",
   "execution_count": 57,
   "metadata": {},
   "outputs": [
    {
     "name": "stdout",
     "output_type": "stream",
     "text": [
      "The autoreload extension is already loaded. To reload it, use:\n",
      "  %reload_ext autoreload\n"
     ]
    }
   ],
   "source": [
    "# Imports\n",
    "from utils import *\n",
    "\n",
    "# Rechargement automatique des fichiers importés (vu dans l'UE de Data Science en L3)\n",
    "%load_ext autoreload\n",
    "%autoreload 2\n",
    "\n",
    "# On désactive les affichages\n",
    "import warnings\n",
    "warnings.filterwarnings('ignore')"
   ]
  },
  {
   "cell_type": "markdown",
   "metadata": {},
   "source": [
    "## Dataframe creation and management"
   ]
  },
  {
   "cell_type": "code",
   "execution_count": 49,
   "metadata": {},
   "outputs": [
    {
     "name": "stdout",
     "output_type": "stream",
     "text": [
      "<class 'pandas.core.frame.DataFrame'>\n",
      "Int64Index: 13494 entries, 0 to 13495\n",
      "Data columns (total 20 columns):\n",
      " #   Column         Non-Null Count  Dtype  \n",
      "---  ------         --------------  -----  \n",
      " 0   name           13494 non-null  object \n",
      " 1   id             13494 non-null  int64  \n",
      " 2   description    13494 non-null  object \n",
      " 3   picture        13494 non-null  object \n",
      " 4   servings       13494 non-null  int64  \n",
      " 5   calories       13494 non-null  float64\n",
      " 6   reviews        13494 non-null  int64  \n",
      " 7   rating         13494 non-null  float64\n",
      " 8   carbohydrates  13494 non-null  float64\n",
      " 9   dietary fiber  13494 non-null  float64\n",
      " 10  sugars         13494 non-null  float64\n",
      " 11  fat            13494 non-null  float64\n",
      " 12  saturated fat  13494 non-null  float64\n",
      " 13  cholesterol    13494 non-null  float64\n",
      " 14  calcium        13494 non-null  float64\n",
      " 15  iron           13494 non-null  float64\n",
      " 16  magnesium      13494 non-null  float64\n",
      " 17  potassium      13494 non-null  float64\n",
      " 18  sodium         13494 non-null  float64\n",
      " 19  ingredients    13494 non-null  object \n",
      "dtypes: float64(13), int64(3), object(4)\n",
      "memory usage: 2.2+ MB\n"
     ]
    }
   ],
   "source": [
    "# We create the dataframe containing all the recipes collected and clear the NaN values in case\n",
    "df = recipeDfMaker(10000, 100, 25000)\n",
    "df.dropna()\n",
    "df.info()"
   ]
  },
  {
   "cell_type": "code",
   "execution_count": 50,
   "metadata": {},
   "outputs": [
    {
     "name": "stdout",
     "output_type": "stream",
     "text": [
      "<class 'pandas.core.frame.DataFrame'>\n",
      "Int64Index: 13494 entries, 0 to 13495\n",
      "Data columns (total 25 columns):\n",
      " #   Column                Non-Null Count  Dtype  \n",
      "---  ------                --------------  -----  \n",
      " 0   name                  13494 non-null  object \n",
      " 1   id                    13494 non-null  int64  \n",
      " 2   description           13494 non-null  object \n",
      " 3   picture               13494 non-null  object \n",
      " 4   servings              13494 non-null  int64  \n",
      " 5   calories              13494 non-null  float64\n",
      " 6   reviews               13494 non-null  int64  \n",
      " 7   rating                13494 non-null  float64\n",
      " 8   carbohydrates         13494 non-null  float64\n",
      " 9   dietary fiber         13494 non-null  float64\n",
      " 10  sugars                13494 non-null  float64\n",
      " 11  fat                   13494 non-null  float64\n",
      " 12  saturated fat         13494 non-null  float64\n",
      " 13  cholesterol           13494 non-null  float64\n",
      " 14  calcium               13494 non-null  float64\n",
      " 15  iron                  13494 non-null  float64\n",
      " 16  magnesium             13494 non-null  float64\n",
      " 17  potassium             13494 non-null  float64\n",
      " 18  sodium                13494 non-null  float64\n",
      " 19  ingredients           13494 non-null  object \n",
      " 20  sharpness_picture     13492 non-null  float64\n",
      " 21  brightness_picture    13492 non-null  float64\n",
      " 22  entropy_picture       13492 non-null  float64\n",
      " 23  colorfulness_picture  13492 non-null  float64\n",
      " 24  contrast_picture      13492 non-null  float64\n",
      "dtypes: float64(18), int64(3), object(4)\n",
      "memory usage: 2.7+ MB\n"
     ]
    }
   ],
   "source": [
    "# We fuse the picture data to the dataframe\n",
    "picdf = pictureDataDfMaker(10000, 100, 25000)\n",
    "picdf.dropna()\n",
    "fuseDfPictureData(df, picdf)\n",
    "df.info()"
   ]
  },
  {
   "cell_type": "code",
   "execution_count": 51,
   "metadata": {},
   "outputs": [
    {
     "name": "stdout",
     "output_type": "stream",
     "text": [
      "<class 'pandas.core.frame.DataFrame'>\n",
      "Int64Index: 12594 entries, 0 to 13495\n",
      "Data columns (total 25 columns):\n",
      " #   Column                Non-Null Count  Dtype  \n",
      "---  ------                --------------  -----  \n",
      " 0   name                  12594 non-null  object \n",
      " 1   id                    12594 non-null  int64  \n",
      " 2   description           12594 non-null  object \n",
      " 3   picture               12594 non-null  object \n",
      " 4   servings              12594 non-null  int64  \n",
      " 5   calories              12594 non-null  float64\n",
      " 6   reviews               12594 non-null  int64  \n",
      " 7   rating                12594 non-null  float64\n",
      " 8   carbohydrates         12594 non-null  float64\n",
      " 9   dietary fiber         12594 non-null  float64\n",
      " 10  sugars                12594 non-null  float64\n",
      " 11  fat                   12594 non-null  float64\n",
      " 12  saturated fat         12594 non-null  float64\n",
      " 13  cholesterol           12594 non-null  float64\n",
      " 14  calcium               12594 non-null  float64\n",
      " 15  iron                  12594 non-null  float64\n",
      " 16  magnesium             12594 non-null  float64\n",
      " 17  potassium             12594 non-null  float64\n",
      " 18  sodium                12594 non-null  float64\n",
      " 19  ingredients           12594 non-null  object \n",
      " 20  sharpness_picture     12592 non-null  float64\n",
      " 21  brightness_picture    12592 non-null  float64\n",
      " 22  entropy_picture       12592 non-null  float64\n",
      " 23  colorfulness_picture  12592 non-null  float64\n",
      " 24  contrast_picture      12592 non-null  float64\n",
      "dtypes: float64(18), int64(3), object(4)\n",
      "memory usage: 2.5+ MB\n"
     ]
    }
   ],
   "source": [
    "# We remove the pictures\n",
    "picdf = removeNoPictures(df)\n",
    "picdf.info()"
   ]
  },
  {
   "cell_type": "markdown",
   "metadata": {},
   "source": [
    "## Vizualisation"
   ]
  },
  {
   "cell_type": "code",
   "execution_count": 52,
   "metadata": {},
   "outputs": [],
   "source": [
    "# We compute the FSA scores\n",
    "computeFSAscore(df)"
   ]
  },
  {
   "cell_type": "code",
   "execution_count": 53,
   "metadata": {},
   "outputs": [
    {
     "data": {
      "image/png": "[encoded data removed]",
      "text/plain": [
       "<Figure size 432x288 with 1 Axes>"
      ]
     },
     "metadata": {
      "needs_background": "light"
     },
     "output_type": "display_data"
    }
   ],
   "source": [
    "# We plot a histogram of the FSA score distribution\n",
    "showBar(df[\"FSA_score\"].tolist(), odds=True, title=\"Distribution of FSA scores per recipe\")"
   ]
  },
  {
   "cell_type": "code",
   "execution_count": 54,
   "metadata": {},
   "outputs": [],
   "source": [
    "# We compute the number of ingredients per recipe\n",
    "computeNumberIngredients(df)"
   ]
  },
  {
   "cell_type": "code",
   "execution_count": 55,
   "metadata": {},
   "outputs": [
    {
     "data": {
      "image/png": "[encoded data removed]",
      "text/plain": [
       "<Figure size 432x288 with 1 Axes>"
      ]
     },
     "metadata": {
      "needs_background": "light"
     },
     "output_type": "display_data"
    }
   ],
   "source": [
    "# We plot a histogram of the number of ingredients distribution\n",
    "showBar(df[\"number_ingredients\"].tolist(), odds=True, title=\"Distribution of the number of ingredients per recipe\")"
   ]
  },
  {
   "cell_type": "code",
   "execution_count": 69,
   "metadata": {},
   "outputs": [
    {
     "name": "stdout",
     "output_type": "stream",
     "text": [
      "11396\r"
     ]
    }
   ],
   "source": [
    "# We find the mean cosine similarities for a sample size of 1000 recipes\n",
    "l2, l4, l6, l8 = computeSimilarityOdds(df.sample(int(1000)))"
   ]
  },
  {
   "cell_type": "code",
   "execution_count": 70,
   "metadata": {},
   "outputs": [
    {
     "name": "stdout",
     "output_type": "stream",
     "text": [
      "0.8068768768768768 0.5258798798798798 0.01865065065065065 0.0002122122122122122\n"
     ]
    }
   ],
   "source": [
    "# We print the results only for the sample size = 1000. \n",
    "# It takes approximately 30 minutes to compute the values for 1000 recipes and 2 hours for 2000 exemples. \n",
    "# We have copied the results into a list below in order to keep them safe.\n",
    "print(np.mean(l2), np.mean(l4), np.mean(l6), np.mean(l8))"
   ]
  },
  {
   "cell_type": "code",
   "execution_count": 71,
   "metadata": {},
   "outputs": [
    {
     "name": "stdout",
     "output_type": "stream",
     "text": [
      "22474\r"
     ]
    }
   ],
   "source": [
    "# We find the mean cosine similarities for a sample size of 2000 recipes\n",
    "l22, l42, l62, l82 = computeSimilarityOdds(df.sample(int(2000)))"
   ]
  },
  {
   "cell_type": "code",
   "execution_count": 72,
   "metadata": {},
   "outputs": [
    {
     "name": "stdout",
     "output_type": "stream",
     "text": [
      "0.8045832916458229 0.5420570285142571 0.019801900950475237 0.0002196098049024512\n"
     ]
    }
   ],
   "source": [
    "# We print the results only for the sample size = 2000\n",
    "print(np.mean(l22), np.mean(l42), np.mean(l62), np.mean(l82))"
   ]
  },
  {
   "cell_type": "code",
   "execution_count": 95,
   "metadata": {},
   "outputs": [],
   "source": [
    "# Similarities\n",
    "xlabels = [0, 1000, 2000, 3000, 4000, 5000]\n",
    "cos2values = [0, 0.806, 0.804, 0.809, 0.798, 0.799]\n",
    "cos4values = [0, 0.525, 0.542, 0.537, 0.534, 0.535]\n",
    "cos6values = [0, 0.019, 0.020, 0.019, 0.019, 0.018]\n",
    "cos8values = [0, 0.0002, 0.0002, 0.0002, 0.0002, 0.0002]\n",
    "\n",
    "sizecos2values = [0] + [int(cos2values[i] * (i * 1000)) for i in range(1, len(xlabels))]\n",
    "sizecos4values = [0] + [int(cos4values[i] * (i * 1000)) for i in range(1, len(xlabels))]\n",
    "sizecos6values = [0] + [int(cos6values[i] * (i * 1000)) for i in range(1, len(xlabels))]\n",
    "sizecos8values = [0] + [int(cos8values[i] * (i * 1000)) for i in range(1, len(xlabels))]"
   ]
  },
  {
   "cell_type": "code",
   "execution_count": 112,
   "metadata": {},
   "outputs": [
    {
     "data": {
      "image/png": "[encoded data removed]",
      "text/plain": [
       "<Figure size 432x288 with 1 Axes>"
      ]
     },
     "metadata": {
      "needs_background": "light"
     },
     "output_type": "display_data"
    }
   ],
   "source": [
    "# Ploting the evolution of the number of similar recipes based on the size of the sample and the shared cosine similarity\n",
    "plt.title(\"Number of similar recipes depending on the cosine similarity and the studied sample size\")\n",
    "plt.plot(xlabels, sizecos2values, \"r-.\", label=\">= 0.2\")\n",
    "plt.plot(xlabels, sizecos4values, \"g-.\", label=\">= 0.4\")\n",
    "plt.plot(xlabels, sizecos6values, \"b-.\", label=\">= 0.6\")\n",
    "plt.plot(xlabels, sizecos8values, \"m-.\", label=\">= 0.8\")\n",
    "plt.xlabel(\"Recipe pool size\")\n",
    "plt.ylabel(\"Mean number of similar recipes\")\n",
    "plt.legend(bbox_to_anchor=(1.05, 1.0), loc='upper left')\n",
    "plt.show()"
   ]
  },
  {
   "cell_type": "markdown",
   "metadata": {},
   "source": [
    "## A selection of recipe pairs"
   ]
  },
  {
   "cell_type": "code",
   "execution_count": 57,
   "metadata": {},
   "outputs": [
    {
     "data": {
      "text/html": [
       "<div>\n",
       "<style scoped>\n",
       "    .dataframe tbody tr th:only-of-type {\n",
       "        vertical-align: middle;\n",
       "    }\n",
       "\n",
       "    .dataframe tbody tr th {\n",
       "        vertical-align: top;\n",
       "    }\n",
       "\n",
       "    .dataframe thead th {\n",
       "        text-align: right;\n",
       "    }\n",
       "</style>\n",
       "<table border=\"1\" class=\"dataframe\">\n",
       "  <thead>\n",
       "    <tr style=\"text-align: right;\">\n",
       "      <th></th>\n",
       "      <th>id</th>\n",
       "      <th>servings</th>\n",
       "      <th>calories</th>\n",
       "      <th>reviews</th>\n",
       "      <th>rating</th>\n",
       "      <th>carbohydrates</th>\n",
       "      <th>dietary fiber</th>\n",
       "      <th>sugars</th>\n",
       "      <th>fat</th>\n",
       "      <th>saturated fat</th>\n",
       "      <th>cholesterol</th>\n",
       "      <th>calcium</th>\n",
       "      <th>iron</th>\n",
       "      <th>magnesium</th>\n",
       "      <th>potassium</th>\n",
       "      <th>sodium</th>\n",
       "      <th>FSA_score</th>\n",
       "      <th>number_ingredients</th>\n",
       "    </tr>\n",
       "  </thead>\n",
       "  <tbody>\n",
       "    <tr>\n",
       "      <th>0</th>\n",
       "      <td>10000</td>\n",
       "      <td>12</td>\n",
       "      <td>599.7</td>\n",
       "      <td>38</td>\n",
       "      <td>3.8</td>\n",
       "      <td>86.6</td>\n",
       "      <td>2.6</td>\n",
       "      <td>54.1</td>\n",
       "      <td>26.9</td>\n",
       "      <td>11.6</td>\n",
       "      <td>0.0640</td>\n",
       "      <td>0.1253</td>\n",
       "      <td>0.0025</td>\n",
       "      <td>0.0392</td>\n",
       "      <td>0.1812</td>\n",
       "      <td>0.4130</td>\n",
       "      <td>11</td>\n",
       "      <td>15</td>\n",
       "    </tr>\n",
       "    <tr>\n",
       "      <th>1</th>\n",
       "      <td>10001</td>\n",
       "      <td>12</td>\n",
       "      <td>357.6</td>\n",
       "      <td>13</td>\n",
       "      <td>4.3</td>\n",
       "      <td>35.5</td>\n",
       "      <td>2.0</td>\n",
       "      <td>17.2</td>\n",
       "      <td>22.6</td>\n",
       "      <td>10.8</td>\n",
       "      <td>0.1027</td>\n",
       "      <td>0.0968</td>\n",
       "      <td>0.0021</td>\n",
       "      <td>0.0296</td>\n",
       "      <td>0.1525</td>\n",
       "      <td>0.1965</td>\n",
       "      <td>9</td>\n",
       "      <td>9</td>\n",
       "    </tr>\n",
       "    <tr>\n",
       "      <th>2</th>\n",
       "      <td>10002</td>\n",
       "      <td>30</td>\n",
       "      <td>200.0</td>\n",
       "      <td>6</td>\n",
       "      <td>3.9</td>\n",
       "      <td>21.9</td>\n",
       "      <td>0.7</td>\n",
       "      <td>14.6</td>\n",
       "      <td>11.6</td>\n",
       "      <td>2.7</td>\n",
       "      <td>0.0124</td>\n",
       "      <td>0.0135</td>\n",
       "      <td>0.0007</td>\n",
       "      <td>0.0162</td>\n",
       "      <td>0.0799</td>\n",
       "      <td>0.1273</td>\n",
       "      <td>8</td>\n",
       "      <td>9</td>\n",
       "    </tr>\n",
       "    <tr>\n",
       "      <th>3</th>\n",
       "      <td>10003</td>\n",
       "      <td>24</td>\n",
       "      <td>116.3</td>\n",
       "      <td>154</td>\n",
       "      <td>4.0</td>\n",
       "      <td>10.9</td>\n",
       "      <td>0.2</td>\n",
       "      <td>2.5</td>\n",
       "      <td>7.8</td>\n",
       "      <td>4.9</td>\n",
       "      <td>0.0203</td>\n",
       "      <td>0.0035</td>\n",
       "      <td>0.0004</td>\n",
       "      <td>0.0020</td>\n",
       "      <td>0.0108</td>\n",
       "      <td>0.0549</td>\n",
       "      <td>6</td>\n",
       "      <td>5</td>\n",
       "    </tr>\n",
       "    <tr>\n",
       "      <th>4</th>\n",
       "      <td>10004</td>\n",
       "      <td>8</td>\n",
       "      <td>108.1</td>\n",
       "      <td>19</td>\n",
       "      <td>4.7</td>\n",
       "      <td>26.0</td>\n",
       "      <td>0.0</td>\n",
       "      <td>25.2</td>\n",
       "      <td>0.0</td>\n",
       "      <td>0.0</td>\n",
       "      <td>0.0000</td>\n",
       "      <td>0.0011</td>\n",
       "      <td>0.0000</td>\n",
       "      <td>0.0015</td>\n",
       "      <td>0.0213</td>\n",
       "      <td>0.0213</td>\n",
       "      <td>6</td>\n",
       "      <td>6</td>\n",
       "    </tr>\n",
       "  </tbody>\n",
       "</table>\n",
       "</div>"
      ],
      "text/plain": [
       "      id  servings  calories  reviews  rating  carbohydrates  dietary fiber  \\\n",
       "0  10000        12     599.7       38     3.8           86.6            2.6   \n",
       "1  10001        12     357.6       13     4.3           35.5            2.0   \n",
       "2  10002        30     200.0        6     3.9           21.9            0.7   \n",
       "3  10003        24     116.3      154     4.0           10.9            0.2   \n",
       "4  10004         8     108.1       19     4.7           26.0            0.0   \n",
       "\n",
       "   sugars   fat  saturated fat  cholesterol  calcium    iron  magnesium  \\\n",
       "0    54.1  26.9           11.6       0.0640   0.1253  0.0025     0.0392   \n",
       "1    17.2  22.6           10.8       0.1027   0.0968  0.0021     0.0296   \n",
       "2    14.6  11.6            2.7       0.0124   0.0135  0.0007     0.0162   \n",
       "3     2.5   7.8            4.9       0.0203   0.0035  0.0004     0.0020   \n",
       "4    25.2   0.0            0.0       0.0000   0.0011  0.0000     0.0015   \n",
       "\n",
       "   potassium  sodium  FSA_score  number_ingredients  \n",
       "0     0.1812  0.4130         11                  15  \n",
       "1     0.1525  0.1965          9                   9  \n",
       "2     0.0799  0.1273          8                   9  \n",
       "3     0.0108  0.0549          6                   5  \n",
       "4     0.0213  0.0213          6                   6  "
      ]
     },
     "execution_count": 57,
     "metadata": {},
     "output_type": "execute_result"
    }
   ],
   "source": [
    "# Exclude string columns\n",
    "dfNoStr = df.select_dtypes(exclude=['object'])\n",
    "dfNoStr.head(5)"
   ]
  },
  {
   "cell_type": "code",
   "execution_count": 58,
   "metadata": {},
   "outputs": [
    {
     "data": {
      "text/plain": [
       "0.9974740985767082"
      ]
     },
     "execution_count": 58,
     "metadata": {},
     "output_type": "execute_result"
    }
   ],
   "source": [
    "cosSimCalc(df, 10000, 10001)"
   ]
  },
  {
   "cell_type": "code",
   "execution_count": 59,
   "metadata": {},
   "outputs": [
    {
     "data": {
      "text/plain": [
       "0.7028611945202856"
      ]
     },
     "execution_count": 59,
     "metadata": {},
     "output_type": "execute_result"
    }
   ],
   "source": [
    "cosSimCalc(df, 10000, 10001, mode=2)"
   ]
  }
 ],
 "metadata": {
  "interpreter": {
   "hash": "8acba5004bc40206a644731bcee493a2a8691de12db2808ba6c10f693827710a"
  },
  "kernelspec": {
   "display_name": "Python 3.9.7 64-bit",
   "language": "python",
   "name": "python3"
  },
  "language_info": {
   "codemirror_mode": {
    "name": "ipython",
    "version": 3
   },
   "file_extension": ".py",
   "mimetype": "text/x-python",
   "name": "python",
   "nbconvert_exporter": "python",
   "pygments_lexer": "ipython3",
   "version": "3.9.7"
  },
  "orig_nbformat": 4
 },
 "nbformat": 4,
 "nbformat_minor": 2
}
