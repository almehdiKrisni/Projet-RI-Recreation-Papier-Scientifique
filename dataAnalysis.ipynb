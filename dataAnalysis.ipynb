{
 "cells": [
  {
   "cell_type": "markdown",
   "metadata": {},
   "source": [
    "# Analyse des données récupérées\n",
    "\n",
    "### Membres du binôme :\n",
    "- KRISNI Almehdi\n",
    "- ARICHANDRA Santhos"
   ]
  },
  {
   "cell_type": "code",
   "execution_count": 72,
   "metadata": {},
   "outputs": [
    {
     "name": "stdout",
     "output_type": "stream",
     "text": [
      "The autoreload extension is already loaded. To reload it, use:\n",
      "  %reload_ext autoreload\n"
     ]
    }
   ],
   "source": [
    "# Imports\n",
    "from utils import *\n",
    "\n",
    "# Rechargement automatique des fichiers importés (vu dans l'UE de Data Science en L3)\n",
    "%load_ext autoreload\n",
    "%autoreload 2"
   ]
  },
  {
   "cell_type": "code",
   "execution_count": 73,
   "metadata": {},
   "outputs": [
    {
     "data": {
      "text/html": [
       "<div>\n",
       "<style scoped>\n",
       "    .dataframe tbody tr th:only-of-type {\n",
       "        vertical-align: middle;\n",
       "    }\n",
       "\n",
       "    .dataframe tbody tr th {\n",
       "        vertical-align: top;\n",
       "    }\n",
       "\n",
       "    .dataframe thead th {\n",
       "        text-align: right;\n",
       "    }\n",
       "</style>\n",
       "<table border=\"1\" class=\"dataframe\">\n",
       "  <thead>\n",
       "    <tr style=\"text-align: right;\">\n",
       "      <th></th>\n",
       "      <th>name</th>\n",
       "      <th>id</th>\n",
       "      <th>calories</th>\n",
       "      <th>sugars</th>\n",
       "      <th>fat</th>\n",
       "      <th>saturated fat</th>\n",
       "      <th>sodium</th>\n",
       "    </tr>\n",
       "  </thead>\n",
       "  <tbody>\n",
       "    <tr>\n",
       "      <th>0</th>\n",
       "      <td>Chocolate Sandwich Cookies I</td>\n",
       "      <td>10000</td>\n",
       "      <td>600</td>\n",
       "      <td>54.1</td>\n",
       "      <td>26.9</td>\n",
       "      <td>11.6</td>\n",
       "      <td>0.413</td>\n",
       "    </tr>\n",
       "    <tr>\n",
       "      <th>1</th>\n",
       "      <td>Chocolate Pizzelles</td>\n",
       "      <td>10001</td>\n",
       "      <td>358</td>\n",
       "      <td>17.2</td>\n",
       "      <td>22.6</td>\n",
       "      <td>10.8</td>\n",
       "      <td>0.1965</td>\n",
       "    </tr>\n",
       "    <tr>\n",
       "      <th>2</th>\n",
       "      <td>Peter Pan Cookies</td>\n",
       "      <td>10002</td>\n",
       "      <td>200</td>\n",
       "      <td>14.6</td>\n",
       "      <td>11.6</td>\n",
       "      <td>2.7</td>\n",
       "      <td>0.1273</td>\n",
       "    </tr>\n",
       "    <tr>\n",
       "      <th>3</th>\n",
       "      <td>Cookie Press Shortbread</td>\n",
       "      <td>10003</td>\n",
       "      <td>116</td>\n",
       "      <td>2.5</td>\n",
       "      <td>7.8</td>\n",
       "      <td>4.9</td>\n",
       "      <td>0.0549</td>\n",
       "    </tr>\n",
       "    <tr>\n",
       "      <th>4</th>\n",
       "      <td>Pavlova</td>\n",
       "      <td>10004</td>\n",
       "      <td>108</td>\n",
       "      <td>25.2</td>\n",
       "      <td>0.0</td>\n",
       "      <td>0.0</td>\n",
       "      <td>0.0213</td>\n",
       "    </tr>\n",
       "  </tbody>\n",
       "</table>\n",
       "</div>"
      ],
      "text/plain": [
       "                           name     id calories sugars   fat saturated fat  \\\n",
       "0  Chocolate Sandwich Cookies I  10000      600   54.1  26.9          11.6   \n",
       "1           Chocolate Pizzelles  10001      358   17.2  22.6          10.8   \n",
       "2             Peter Pan Cookies  10002      200   14.6  11.6           2.7   \n",
       "3       Cookie Press Shortbread  10003      116    2.5   7.8           4.9   \n",
       "4                       Pavlova  10004      108   25.2   0.0           0.0   \n",
       "\n",
       "   sodium  \n",
       "0   0.413  \n",
       "1  0.1965  \n",
       "2  0.1273  \n",
       "3  0.0549  \n",
       "4  0.0213  "
      ]
     },
     "execution_count": 73,
     "metadata": {},
     "output_type": "execute_result"
    }
   ],
   "source": [
    "# On récupère le dataframe pandas contenant toutes les recettes avec un ID compris entre startID et endID\n",
    "startID = 10000\n",
    "endID = 40000\n",
    "df = pdCreator(startID, 100, endID)\n",
    "\n",
    "# On affiche les premières valeurs afin d'avoir une idée sur la forme des données\n",
    "df.head()"
   ]
  }
 ],
 "metadata": {
  "interpreter": {
   "hash": "0882f64853dad4c2959728fd5765a8f4f31953d4de2b55ec484562a906c43e55"
  },
  "kernelspec": {
   "display_name": "Python 3.9.7 64-bit",
   "language": "python",
   "name": "python3"
  },
  "language_info": {
   "codemirror_mode": {
    "name": "ipython",
    "version": 3
   },
   "file_extension": ".py",
   "mimetype": "text/x-python",
   "name": "python",
   "nbconvert_exporter": "python",
   "pygments_lexer": "ipython3",
   "version": "3.9.7"
  },
  "orig_nbformat": 4
 },
 "nbformat": 4,
 "nbformat_minor": 2
}
